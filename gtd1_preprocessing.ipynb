{
 "cells": [
  {
   "cell_type": "markdown",
   "metadata": {
    "deletable": true,
    "editable": true
   },
   "source": [
    "# Terror5 - Preprocessing\n",
    "### Step 1. Load data\n",
    "Load csv file in a dataframe, check encoding and low_memory=False because some columns are mix types.\n",
    "Columns (4,61,62,66,116,117,123) have mixed types."
   ]
  },
  {
   "cell_type": "code",
   "execution_count": 6,
   "metadata": {
    "collapsed": false,
    "deletable": true,
    "editable": true
   },
   "outputs": [
    {
     "data": {
      "text/plain": [
       "Index(['eventid', 'iyear', 'imonth', 'iday', 'approxdate', 'extended',\n",
       "       'resolution', 'country', 'country_txt', 'region',\n",
       "       ...\n",
       "       'addnotes', 'scite1', 'scite2', 'scite3', 'dbsource', 'INT_LOG',\n",
       "       'INT_IDEO', 'INT_MISC', 'INT_ANY', 'related'],\n",
       "      dtype='object', length=137)"
      ]
     },
     "execution_count": 6,
     "metadata": {},
     "output_type": "execute_result"
    }
   ],
   "source": [
    "%matplotlib inline\n",
    "import pandas as pd\n",
    "gtd = pd.read_csv('gtd.csv', encoding='latin1', low_memory=False)\n",
    "gtd.columns"
   ]
  },
  {
   "cell_type": "markdown",
   "metadata": {
    "deletable": true,
    "editable": true
   },
   "source": [
    "**SLOW !!!** Save columns with _txt mappings in CSV files"
   ]
  },
  {
   "cell_type": "code",
   "execution_count": 7,
   "metadata": {
    "collapsed": false,
    "deletable": true,
    "editable": true
   },
   "outputs": [],
   "source": [
    "import csv\n",
    "from tqdm import tqdm_notebook\n",
    "\n",
    "# # Mapping for _txt columns\n",
    "# txt_maps = {col[:-4]:{} for col in gtd.columns if col[-4:]=='_txt'}\n",
    "# for index, row in tqdm_notebook(gtd.iterrows(), desc='Rows'):\n",
    "#     if index%5000 == 0:\n",
    "#         print('.', end='')\n",
    "#     for key in txt_maps:\n",
    "#         if pd.notnull(row[key]):\n",
    "#             txt_maps[key][int(row[key])] = row[key+'_txt']\n",
    "            \n",
    "# # Save maps to CSV\n",
    "# with open('mapping.csv', 'w', newline='') as csvfile:\n",
    "#     writer = csv.writer(csvfile)\n",
    "#     writer.writerows(txt_maps.items())"
   ]
  },
  {
   "cell_type": "markdown",
   "metadata": {
    "deletable": true,
    "editable": true
   },
   "source": [
    "### Step 2. Preprocessing\n",
    "**a)** Columns to keep"
   ]
  },
  {
   "cell_type": "code",
   "execution_count": 8,
   "metadata": {
    "collapsed": false,
    "deletable": true,
    "editable": true
   },
   "outputs": [],
   "source": [
    "keep_cols = ['gname', 'iyear', 'country', 'region', 'attacktype1']\n",
    "# gtd = gtd[keep_cols]"
   ]
  },
  {
   "cell_type": "markdown",
   "metadata": {
    "deletable": true,
    "editable": true
   },
   "source": [
    "**b)** Rows to keep: all groups with at least *n_attacks*"
   ]
  },
  {
   "cell_type": "code",
   "execution_count": 9,
   "metadata": {
    "collapsed": false,
    "deletable": true,
    "editable": true
   },
   "outputs": [],
   "source": [
    "from collections import Counter\n",
    "\n",
    "n_attacks = 5\n",
    "group_count = Counter(gtd['gname'])\n",
    "# Remove groups with less than n_attacks\n",
    "keep_groups = [group for group, counter in group_count.items() if counter >= n_attacks]\n",
    "# Remove 'Unknown'\n",
    "keep_groups.remove('Unknown')\n",
    "\n",
    "gtd = gtd[gtd['gname'].isin(keep_groups)]"
   ]
  },
  {
   "cell_type": "code",
   "execution_count": 10,
   "metadata": {
    "collapsed": false,
    "deletable": true,
    "editable": true
   },
   "outputs": [],
   "source": [
    "gtd.to_csv('gtd_clean.csv', encoding='utf-8')"
   ]
  }
 ],
 "metadata": {
  "kernelspec": {
   "display_name": "Python [default]",
   "language": "python",
   "name": "python3"
  },
  "language_info": {
   "codemirror_mode": {
    "name": "ipython",
    "version": 3
   },
   "file_extension": ".py",
   "mimetype": "text/x-python",
   "name": "python",
   "nbconvert_exporter": "python",
   "pygments_lexer": "ipython3",
   "version": "3.5.2"
  }
 },
 "nbformat": 4,
 "nbformat_minor": 2
}
