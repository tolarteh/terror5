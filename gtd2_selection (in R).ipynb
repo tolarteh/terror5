{
 "cells": [
  {
   "cell_type": "markdown",
   "metadata": {},
   "source": [
    "# Terror5 - Feature selection\n",
    "Load preprocessed data"
   ]
  },
  {
   "cell_type": "code",
   "execution_count": 12,
   "metadata": {
    "collapsed": false
   },
   "outputs": [],
   "source": [
    "gtd <- read.csv(file=\"gtd_clean.csv\", header=TRUE, sep=\",\")"
   ]
  },
  {
   "cell_type": "code",
   "execution_count": 14,
   "metadata": {
    "collapsed": false
   },
   "outputs": [
    {
     "data": {
      "text/html": [
       "TRUE"
      ],
      "text/latex": [
       "TRUE"
      ],
      "text/markdown": [
       "TRUE"
      ],
      "text/plain": [
       "[1] TRUE"
      ]
     },
     "metadata": {},
     "output_type": "display_data"
    }
   ],
   "source": [
    "is.factor(gtd$country_txt)"
   ]
  },
  {
   "cell_type": "markdown",
   "metadata": {},
   "source": [
    "Split in train and test datasets"
   ]
  },
  {
   "cell_type": "code",
   "execution_count": 15,
   "metadata": {
    "collapsed": false
   },
   "outputs": [],
   "source": [
    "set.seed(123)\n",
    "\n",
    "N <- nrow(gtd)\n",
    "Ntrain <- floor(0.8 * N)\n",
    "train_ind <- sample(seq_len(N), size = Ntrain)\n",
    "train <- gtd[train_ind, ]\n",
    "test  <- gtd[-train_ind, ]"
   ]
  },
  {
   "cell_type": "markdown",
   "metadata": {},
   "source": [
    "Logistic regression model to select relevant features"
   ]
  },
  {
   "cell_type": "code",
   "execution_count": 19,
   "metadata": {
    "collapsed": false
   },
   "outputs": [
    {
     "name": "stderr",
     "output_type": "stream",
     "text": [
      "Warning message:\n",
      "\"glm.fit: fitted probabilities numerically 0 or 1 occurred\""
     ]
    },
    {
     "data": {
      "text/plain": [
       "\n",
       "Call:\n",
       "glm(formula = gtd$gname ~ gtd$region_txt + gtd$attacktype1_txt, \n",
       "    family = binomial())\n",
       "\n",
       "Deviance Residuals: \n",
       "    Min       1Q   Median       3Q      Max  \n",
       "-3.6803   0.0000   0.0000   0.0000   0.0567  \n",
       "\n",
       "Coefficients:\n",
       "                                                         Estimate Std. Error\n",
       "(Intercept)                                               41.4078 36663.0945\n",
       "gtd$region_txtCentral America & Caribbean                  0.4639 36829.9543\n",
       "gtd$region_txtCentral Asia                                 0.6033 53608.5807\n",
       "gtd$region_txtEast Asia                                    0.7731 41661.1836\n",
       "gtd$region_txtEastern Europe                               0.7702 37581.3089\n",
       "gtd$region_txtMiddle East & North Africa                   0.9572 36712.4777\n",
       "gtd$region_txtNorth America                                0.7430 37270.8093\n",
       "gtd$region_txtSouth America                                0.9412 36726.8607\n",
       "gtd$region_txtSouth Asia                                   0.7227 36690.6475\n",
       "gtd$region_txtSoutheast Asia                               0.5679 36886.9557\n",
       "gtd$region_txtSub-Saharan Africa                           0.3353 36782.1727\n",
       "gtd$region_txtWestern Europe                             -18.2619 36610.9674\n",
       "gtd$attacktype1_txtAssassination                         -16.7142  1954.3783\n",
       "gtd$attacktype1_txtBombing/Explosion                     -16.3749  1954.3783\n",
       "gtd$attacktype1_txtFacility/Infrastructure Attack          1.6376  4758.9570\n",
       "gtd$attacktype1_txtHijacking                               0.9818 17645.7408\n",
       "gtd$attacktype1_txtHostage Taking (Barricade Incident)     0.7036 11699.6832\n",
       "gtd$attacktype1_txtHostage Taking (Kidnapping)            -0.4656  4276.3016\n",
       "gtd$attacktype1_txtUnarmed Assault                         0.8986 14268.3651\n",
       "gtd$attacktype1_txtUnknown                                -0.1597  4999.2112\n",
       "                                                       z value Pr(>|z|)\n",
       "(Intercept)                                              0.001    0.999\n",
       "gtd$region_txtCentral America & Caribbean                0.000    1.000\n",
       "gtd$region_txtCentral Asia                               0.000    1.000\n",
       "gtd$region_txtEast Asia                                  0.000    1.000\n",
       "gtd$region_txtEastern Europe                             0.000    1.000\n",
       "gtd$region_txtMiddle East & North Africa                 0.000    1.000\n",
       "gtd$region_txtNorth America                              0.000    1.000\n",
       "gtd$region_txtSouth America                              0.000    1.000\n",
       "gtd$region_txtSouth Asia                                 0.000    1.000\n",
       "gtd$region_txtSoutheast Asia                             0.000    1.000\n",
       "gtd$region_txtSub-Saharan Africa                         0.000    1.000\n",
       "gtd$region_txtWestern Europe                             0.000    1.000\n",
       "gtd$attacktype1_txtAssassination                        -0.009    0.993\n",
       "gtd$attacktype1_txtBombing/Explosion                    -0.008    0.993\n",
       "gtd$attacktype1_txtFacility/Infrastructure Attack        0.000    1.000\n",
       "gtd$attacktype1_txtHijacking                             0.000    1.000\n",
       "gtd$attacktype1_txtHostage Taking (Barricade Incident)   0.000    1.000\n",
       "gtd$attacktype1_txtHostage Taking (Kidnapping)           0.000    1.000\n",
       "gtd$attacktype1_txtUnarmed Assault                       0.000    1.000\n",
       "gtd$attacktype1_txtUnknown                               0.000    1.000\n",
       "\n",
       "(Dispersion parameter for binomial family taken to be 1)\n",
       "\n",
       "    Null deviance: 200.01  on 81088  degrees of freedom\n",
       "Residual deviance: 152.72  on 81069  degrees of freedom\n",
       "AIC: 192.72\n",
       "\n",
       "Number of Fisher Scoring iterations: 25\n"
      ]
     },
     "metadata": {},
     "output_type": "display_data"
    }
   ],
   "source": [
    "full_model <- glm(gtd$gname ~ gtd$region_txt + gtd$attacktype1_txt, family=binomial())\n",
    "summary(full_model)"
   ]
  },
  {
   "cell_type": "code",
   "execution_count": 20,
   "metadata": {
    "collapsed": false
   },
   "outputs": [
    {
     "name": "stdout",
     "output_type": "stream",
     "text": [
      "Start:  AIC=192.72\n",
      "gtd$gname ~ gtd$region_txt + gtd$attacktype1_txt\n",
      "\n",
      "                      Df Deviance    AIC\n",
      "- gtd$attacktype1_txt  8   159.01 183.01\n",
      "<none>                     152.72 192.72\n",
      "- gtd$region_txt      11   185.39 203.39\n",
      "\n",
      "Step:  AIC=183.01\n",
      "gtd$gname ~ gtd$region_txt\n",
      "\n",
      "                 Df Deviance    AIC\n",
      "<none>                159.01 183.01\n",
      "- gtd$region_txt 11   200.01 202.01\n"
     ]
    }
   ],
   "source": [
    "backwards <- step(full_model)"
   ]
  }
 ],
 "metadata": {
  "kernelspec": {
   "display_name": "R",
   "language": "R",
   "name": "ir"
  },
  "language_info": {
   "codemirror_mode": "r",
   "file_extension": ".r",
   "mimetype": "text/x-r-source",
   "name": "R",
   "pygments_lexer": "r",
   "version": "3.3.2"
  }
 },
 "nbformat": 4,
 "nbformat_minor": 2
}
