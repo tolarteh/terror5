{
 "cells": [
  {
   "cell_type": "markdown",
   "metadata": {
    "deletable": true,
    "editable": true
   },
   "source": [
    "# Terror5\n",
    "\n",
    "# Step 1. Load data\n",
    "Load csv file in a dataframe, check encoding and low_memory=False because some columns are mix types.\n",
    "Columns (4,61,62,66,116,117,123) have mixed types."
   ]
  },
  {
   "cell_type": "code",
   "execution_count": 1,
   "metadata": {
    "collapsed": false,
    "deletable": true,
    "editable": true
   },
   "outputs": [
    {
     "data": {
      "text/plain": [
       "Index(['eventid', 'iyear', 'imonth', 'iday', 'approxdate', 'extended',\n",
       "       'resolution', 'country', 'country_txt', 'region',\n",
       "       ...\n",
       "       'addnotes', 'scite1', 'scite2', 'scite3', 'dbsource', 'INT_LOG',\n",
       "       'INT_IDEO', 'INT_MISC', 'INT_ANY', 'related'],\n",
       "      dtype='object', length=137)"
      ]
     },
     "execution_count": 1,
     "metadata": {},
     "output_type": "execute_result"
    }
   ],
   "source": [
    "import numpy as np\n",
    "import matplotlib.pyplot as plt\n",
    "\n",
    "%matplotlib inline\n",
    "%config InlineBackend.figure_format='retina'\n",
    "\n",
    "# %pdb\n",
    "\n",
    "import pandas as pd\n",
    "\n",
    "gtd = pd.read_csv('gtd_utf.csv', encoding='latin1', low_memory=False)\n",
    "gtd.columns"
   ]
  },
  {
   "cell_type": "markdown",
   "metadata": {
    "deletable": true,
    "editable": true
   },
   "source": [
    "**Check groups bias**\n",
    "\n",
    "Which group is responsible for the attacks?"
   ]
  },
  {
   "cell_type": "code",
   "execution_count": 2,
   "metadata": {
    "collapsed": false,
    "deletable": true,
    "editable": true
   },
   "outputs": [
    {
     "name": "stdout",
     "output_type": "stream",
     "text": [
      "Number of groups = 3290\n",
      "Be careful with bias, Unknown = 45.8768%\n"
     ]
    },
    {
     "data": {
      "text/plain": [
       "[('Unknown', 71922),\n",
       " ('Taliban', 5502),\n",
       " ('Shining Path (SL)', 4548),\n",
       " ('Farabundo Marti National Liberation Front (FMLN)', 3351),\n",
       " ('Islamic State of Iraq and the Levant (ISIL)', 2833)]"
      ]
     },
     "execution_count": 2,
     "metadata": {},
     "output_type": "execute_result"
    }
   ],
   "source": [
    "from collections import Counter\n",
    "\n",
    "# Terrorist group name is the target\n",
    "target = gtd['gname']\n",
    "\n",
    "gcount = Counter(target)\n",
    "print('Number of groups = {}'.format(len(gcount)))\n",
    "g1 = gcount.most_common(1)[0]\n",
    "print('Be careful with bias, {} = {:.4f}%'.format(g1[0], 100 * g1[1] / target.size))\n",
    "gcount.most_common(5)"
   ]
  },
  {
   "cell_type": "markdown",
   "metadata": {
    "deletable": true,
    "editable": true
   },
   "source": [
    "# Step 2. Preprocessing"
   ]
  },
  {
   "cell_type": "code",
   "execution_count": 3,
   "metadata": {
    "collapsed": false,
    "deletable": true,
    "editable": true
   },
   "outputs": [
    {
     "data": {
      "text/plain": [
       "527"
      ]
     },
     "execution_count": 3,
     "metadata": {},
     "output_type": "execute_result"
    }
   ],
   "source": [
    "from collections import Counter\n",
    "\n",
    "threshold = 10\n",
    "group_count = Counter(gtd['gname'])\n",
    "groups = [group for group, counter in group_count.items() if counter >= threshold]\n",
    "len(groups)"
   ]
  },
  {
   "cell_type": "code",
   "execution_count": 4,
   "metadata": {
    "collapsed": false,
    "deletable": true,
    "editable": true
   },
   "outputs": [
    {
     "data": {
      "text/plain": [
       "150816"
      ]
     },
     "execution_count": 4,
     "metadata": {},
     "output_type": "execute_result"
    }
   ],
   "source": [
    "gtd_clean = gtd[gtd['gname'].isin(groups)]\n",
    "len(gtd_clean)"
   ]
  },
  {
   "cell_type": "markdown",
   "metadata": {
    "deletable": true,
    "editable": true
   },
   "source": [
    "### Step 2.1 Remove unknowns"
   ]
  },
  {
   "cell_type": "code",
   "execution_count": 5,
   "metadata": {
    "collapsed": false,
    "deletable": true,
    "editable": true
   },
   "outputs": [],
   "source": [
    "# Remove Unknowns\n",
    "\n",
    "region2 = gtd_clean[(gtd_clean['region']==2) & (gtd_clean['gname']!='Unknown')]\n",
    "total_region2 = len(region2)"
   ]
  },
  {
   "cell_type": "markdown",
   "metadata": {
    "deletable": true,
    "editable": true
   },
   "source": [
    "### Step 2.2 Remove a particular biased group"
   ]
  },
  {
   "cell_type": "code",
   "execution_count": 6,
   "metadata": {
    "collapsed": false,
    "deletable": true,
    "editable": true
   },
   "outputs": [],
   "source": [
    "# Remove a particular group that skews predictions\n",
    "\n",
    "#region2 = region2[(region2['gname']!='Farabundo Marti National Liberation Front (FMLN)')]\n",
    "#len(region2)"
   ]
  },
  {
   "cell_type": "markdown",
   "metadata": {
    "deletable": true,
    "editable": true
   },
   "source": [
    "# Step 3. Naive Bayes Classifier"
   ]
  },
  {
   "cell_type": "markdown",
   "metadata": {
    "deletable": true,
    "editable": true
   },
   "source": [
    "### Step 3.1 Splitting into Training and Testing sets"
   ]
  },
  {
   "cell_type": "code",
   "execution_count": 7,
   "metadata": {
    "collapsed": false,
    "deletable": true,
    "editable": true
   },
   "outputs": [],
   "source": [
    "from sklearn.model_selection import train_test_split\n",
    "\n",
    "features_used = ['iyear', 'country']\n",
    "\n",
    "data_target = region2['gname']\n",
    "data_features = region2[features_used]\n",
    "\n",
    "X_train, X_test, Y_train, Y_test = train_test_split(data_features, data_target, test_size=0.30)\n",
    "\n",
    "train = pd.concat([Y_train, X_train], axis=1)\n",
    "test = pd.concat([Y_test, X_test], axis=1)\n",
    "\n",
    "year_counts = X_train['iyear'].value_counts()\n",
    "total_years = len(year_counts)\n",
    "year_probabilities = year_counts / total_years\n",
    "\n",
    "country_counts = X_train['country'].value_counts()\n",
    "total_country = len(country_counts)\n",
    "country_probabilities = country_counts / total_country\n",
    "\n",
    "train_groups = pd.unique(Y_train)\n",
    "train_years = pd.unique(X_train['iyear'])\n",
    "train_countries = pd.unique(X_train['country'])\n",
    "\n",
    "train_groups_len = len(train_groups)\n",
    "train_years_len = len(train_years)\n",
    "train_countries_len = len(train_countries)\n",
    "\n",
    "train_groups_year_likelihoods = [(x, y, 0) for x in train_groups for y in train_years]\n",
    "train_groups_country_likelihoods = [(x, y, 0) for x in train_groups for y in train_countries]\n",
    "\n",
    "train_groups_year_likelihoods = pd.DataFrame(train_groups_year_likelihoods)\n",
    "train_groups_country_likelihoods = pd.DataFrame(train_groups_country_likelihoods)\n",
    "\n",
    "train_groups_year_likelihoods.columns = ['gname', 'year', 'likelihood']\n",
    "train_groups_country_likelihoods.columns = ['gname', 'country', 'likelihood']"
   ]
  },
  {
   "cell_type": "markdown",
   "metadata": {
    "collapsed": true,
    "deletable": true,
    "editable": true
   },
   "source": [
    "### Step 3.2 Calculating priors"
   ]
  },
  {
   "cell_type": "code",
   "execution_count": 8,
   "metadata": {
    "collapsed": false,
    "deletable": true,
    "editable": true
   },
   "outputs": [],
   "source": [
    "group_counts = Y_train.value_counts()\n",
    "total_groups_train = len(group_counts)\n",
    "total_train = len(Y_train)\n",
    "prior_probabilities = group_counts / total_train"
   ]
  },
  {
   "cell_type": "markdown",
   "metadata": {
    "deletable": true,
    "editable": true
   },
   "source": [
    "### Step 3.3 Calculating the class conditional likelihoods"
   ]
  },
  {
   "cell_type": "code",
   "execution_count": 9,
   "metadata": {
    "collapsed": true,
    "deletable": true,
    "editable": true
   },
   "outputs": [],
   "source": [
    "year_likelihoods = []\n",
    "country_likelihoods = []\n",
    "\n",
    "sum2 = 0\n",
    "for gname in pd.unique(Y_train): # for each group\n",
    "    #print(idx, val)\n",
    "    filtered_by_group = train[train['gname'] == gname]\n",
    "    #print(\"Len for group \" + str(gname) + \" is \" + str(len(filtered_by_group)))\n",
    "    sum2 = sum2 + len(filtered_by_group)\n",
    "    \n",
    "    attacks_by_this_group = len(filtered_by_group)\n",
    "    \n",
    "    year_given_group_probability = 0\n",
    "    country_given_group_probability = 0\n",
    "    \n",
    "    for year in train_years:\n",
    "        filtered_by_group_by_year = filtered_by_group[filtered_by_group['iyear'] == year]\n",
    "        attacks_by_this_group_this_year = len(filtered_by_group_by_year)\n",
    "        year_given_group_probability = attacks_by_this_group_this_year / attacks_by_this_group\n",
    "        \n",
    "        #train_groups_year_likelihoods[train_groups_year_likelihoods['gname']==gname]['likelihood'] = year_given_group_probability\n",
    "        #train_groups_year_likelihoods.set_value(gname, year, year_given_group_probability)\n",
    "        year_likelihoods.append(year_given_group_probability)\n",
    "        \n",
    "    for country in train_countries:\n",
    "        filtered_by_group_by_country = filtered_by_group[filtered_by_group['country'] == country]\n",
    "        attacks_by_this_group_this_country = len(filtered_by_group_by_country)\n",
    "        country_given_group_probability = attacks_by_this_group_this_country / attacks_by_this_group\n",
    "    \n",
    "        #train_groups_country_likelihoods[gname][country][\"likelihood\"] = country_given_group_probability\n",
    "        country_likelihoods.append(country_given_group_probability)\n",
    "\n",
    "#print(str(train_groups_year_likelihoods.shape))\n",
    "#print(str(len(year_likelihoods)))\n",
    "train_groups_year_likelihoods['likelihood'] = year_likelihoods  \n",
    "train_groups_country_likelihoods['likelihood'] = country_likelihoods"
   ]
  },
  {
   "cell_type": "markdown",
   "metadata": {
    "deletable": true,
    "editable": true
   },
   "source": [
    "### Step 3. Testing predictions"
   ]
  },
  {
   "cell_type": "code",
   "execution_count": null,
   "metadata": {
    "collapsed": false,
    "deletable": true,
    "editable": true
   },
   "outputs": [
    {
     "name": "stdout",
     "output_type": "stream",
     "text": [
      "Predicting 1908 attack in test set for which we will predict the group\n",
      "\n",
      "Total groups in train 63\n",
      "Total attacks in train 4450\n",
      "Total number of years in train 30\n",
      "Total number of countries in train 12\n"
     ]
    }
   ],
   "source": [
    "test_len = len(test)\n",
    "\n",
    "#print(test)\n",
    "\n",
    "print(\"Predicting \" + str(test_len) + \" attack in test set for which we will predict the group\")\n",
    "print()\n",
    "print(\"Total groups in train \" + str(total_groups_train))\n",
    "print(\"Total attacks in train \" + str(total_train))\n",
    "print(\"Total number of years in train \" + str(len(train_years)))\n",
    "print(\"Total number of countries in train \" + str(len(train_countries)))"
   ]
  },
  {
   "cell_type": "code",
   "execution_count": null,
   "metadata": {
    "collapsed": false,
    "deletable": true,
    "editable": true
   },
   "outputs": [
    {
     "name": "stdout",
     "output_type": "stream",
     "text": [
      "1803/1908; accuracy on test set until now is: 84.02662229617304%\r"
     ]
    }
   ],
   "source": [
    "correct = 0\n",
    "predictions = 0\n",
    "\n",
    "for index, row in test.iterrows():\n",
    "    real_gname = row['gname']\n",
    "    real_iyear = row['iyear']\n",
    "    real_country = row['country']\n",
    "    \n",
    "    predictions = predictions + 1;\n",
    "    \n",
    "    #print(\"Predicting \" + str(predictions) + \" out of \" + str(test_len) + \" below\")\n",
    "    #print(str(real_gname) + \" \" + str(real_iyear) + \" \" + str(real_country))\n",
    "    \n",
    "    gname_posterior = [(x, 0) for x in pd.unique(Y_train)]\n",
    "    \n",
    "    gname_posterior = pd.DataFrame(gname_posterior)\n",
    "    gname_posterior.columns = ['gname', 'posterior']\n",
    "    \n",
    "    #print(gname_posterior)\n",
    "    \n",
    "    posteriors = []\n",
    "    \n",
    "    for gname in pd.unique(Y_train): \n",
    "        the_prior = prior_probabilities[gname]\n",
    "        year_likelihood = train_groups_year_likelihoods[(train_groups_year_likelihoods['gname'] == gname) & (train_groups_year_likelihoods['year'] == real_iyear)]['likelihood']\n",
    "        try:\n",
    "            year_likelihood = year_likelihood.iloc[0]\n",
    "        except IndexError:\n",
    "            #print(\"Real year \" + str(real_iyear) + \" was not in our training set so we got an error\")\n",
    "            year_likelihood = 0\n",
    "        \n",
    "        country_likelihood = train_groups_country_likelihoods[(train_groups_country_likelihoods['gname'] == gname) & (train_groups_country_likelihoods['country'] == real_country)]['likelihood']\n",
    "        try:\n",
    "            country_likelihood = country_likelihood.iloc[0]\n",
    "        except IndexError:\n",
    "            #print(\"Real country \" + str(real_country) + \" was not in our training set so we got an error\")\n",
    "            country_likelihood = 0\n",
    "        the_posterior = year_likelihood * country_likelihood * the_prior\n",
    "        posteriors.append(the_posterior)\n",
    "        \n",
    "        #year_likelihood = train_groups_year_likelihoods[train_groups_year_likelihoods[('gname' == gname) & ('year' == real_iyear)]]['likelihood']\n",
    "        #country_likelihood = train_groups_year_likelihoods[train_groups_year_likelihoods[('gname' == gname) & ('country' == real_country)]]['likelihood']\n",
    "        \n",
    "        '''\n",
    "        print(\"Calculating posterior probability as if it was: \" + gname)\n",
    "        print(\"Prior: \" + str(the_prior))\n",
    "        print(\"Year likelihood: \" + str(year_likelihood))\n",
    "        print(\"Country likelihood: \" + str(country_likelihood))\n",
    "        print(\"Posterior probability: \" + str(the_posterior))\n",
    "        print()\n",
    "        '''\n",
    "        \n",
    "    gname_posterior['posterior'] = posteriors\n",
    "    #print(gname_posterior)\n",
    "    #print(pd.unique(Y_train))\n",
    "    \n",
    "    predicted_gname = gname_posterior.sort_values(['posterior'], ascending=[False]).iloc[0]\n",
    "    predicted_gname = predicted_gname['gname']\n",
    "    \n",
    "    #print(\"Real group is: \" + real_gname)\n",
    "    #print(\"Predicted group is: \" + predicted_gname)\n",
    "    \n",
    "    if predicted_gname == real_gname:\n",
    "        correct = correct + 1\n",
    "    \n",
    "    #print(predictions, end=\"\\r\")\n",
    "    \n",
    "    print(str(predictions) + \"/\" + str(test_len) + \"; accuracy on test set until now is: \" + str(correct/predictions*100) + \"%\", end=\"\\r\")\n",
    "    \n",
    "    #break # after first prediction for debug purposes\n",
    "\n",
    "print(\"Accuracy on all of the test set is: \" + str(correct/len(test)*100) + \"%\")"
   ]
  },
  {
   "cell_type": "code",
   "execution_count": null,
   "metadata": {
    "collapsed": true,
    "deletable": true,
    "editable": true
   },
   "outputs": [],
   "source": [
    "# run all above from here"
   ]
  },
  {
   "cell_type": "markdown",
   "metadata": {
    "collapsed": false,
    "deletable": true,
    "editable": true
   },
   "source": [
    "# Proof that priors add up to 1"
   ]
  },
  {
   "cell_type": "code",
   "execution_count": null,
   "metadata": {
    "collapsed": false,
    "deletable": true,
    "editable": true
   },
   "outputs": [],
   "source": [
    "print(prior_probabilities.sum())"
   ]
  },
  {
   "cell_type": "markdown",
   "metadata": {
    "collapsed": false,
    "deletable": true,
    "editable": true
   },
   "source": [
    "# Proof that class conditional likelihoods add up to 1"
   ]
  },
  {
   "cell_type": "code",
   "execution_count": null,
   "metadata": {
    "collapsed": false,
    "deletable": true,
    "editable": true
   },
   "outputs": [],
   "source": [
    "for gname in pd.unique(Y_train):\n",
    "    print(gname)\n",
    "    year_l_filtered_by_group = train_groups_year_likelihoods[train_groups_year_likelihoods['gname'] == gname]\n",
    "    country_l_filtered_by_group = train_groups_country_likelihoods[train_groups_country_likelihoods['gname'] == gname]\n",
    "    \n",
    "    the_sum = year_l_filtered_by_group.sum()\n",
    "    the_sum2 = country_l_filtered_by_group.sum()\n",
    "    \n",
    "    print(\"Above group has \" + str(len(year_l_filtered_by_group)) + \" likelihoods for year\")\n",
    "    print(\"Above group has \" + str(len(country_l_filtered_by_group)) + \" likelihoods for country\")\n",
    "    print()\n",
    "    print(\"Year likelihoods below\")\n",
    "    print(year_l_filtered_by_group)\n",
    "    print()\n",
    "    print(\"Sum should be 1 (all year likelihoods for a particular group summed up): \" + str(the_sum[2]))\n",
    "    print(\"Sum should be 1 (all country likelihoods for a particular group summed up): \" + str(the_sum2[2]))\n",
    "    \n",
    "    break"
   ]
  },
  {
   "cell_type": "code",
   "execution_count": null,
   "metadata": {
    "collapsed": false,
    "deletable": true,
    "editable": true
   },
   "outputs": [],
   "source": []
  },
  {
   "cell_type": "code",
   "execution_count": null,
   "metadata": {
    "collapsed": false,
    "deletable": true,
    "editable": true
   },
   "outputs": [],
   "source": []
  },
  {
   "cell_type": "code",
   "execution_count": null,
   "metadata": {
    "collapsed": false,
    "deletable": true,
    "editable": true
   },
   "outputs": [],
   "source": []
  }
 ],
 "metadata": {
  "kernelspec": {
   "display_name": "Python 3",
   "language": "python",
   "name": "python3"
  },
  "language_info": {
   "codemirror_mode": {
    "name": "ipython",
    "version": 3
   },
   "file_extension": ".py",
   "mimetype": "text/x-python",
   "name": "python",
   "nbconvert_exporter": "python",
   "pygments_lexer": "ipython3",
   "version": "3.6.0"
  }
 },
 "nbformat": 4,
 "nbformat_minor": 2
}
