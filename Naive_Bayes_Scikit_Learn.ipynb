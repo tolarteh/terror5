{
 "cells": [
  {
   "cell_type": "markdown",
   "metadata": {
    "deletable": true,
    "editable": true
   },
   "source": [
    "# Terror5\n",
    "\n",
    "# Step 1. Load data\n",
    "Load csv file in a dataframe, check encoding and low_memory=False because some columns are mix types.\n",
    "Columns (4,61,62,66,116,117,123) have mixed types."
   ]
  },
  {
   "cell_type": "code",
   "execution_count": 24,
   "metadata": {
    "collapsed": false,
    "deletable": true,
    "editable": true
   },
   "outputs": [
    {
     "data": {
      "text/plain": [
       "Index(['eventid', 'iyear', 'imonth', 'iday', 'approxdate', 'extended',\n",
       "       'resolution', 'country', 'country_txt', 'region',\n",
       "       ...\n",
       "       'addnotes', 'scite1', 'scite2', 'scite3', 'dbsource', 'INT_LOG',\n",
       "       'INT_IDEO', 'INT_MISC', 'INT_ANY', 'related'],\n",
       "      dtype='object', length=137)"
      ]
     },
     "execution_count": 24,
     "metadata": {},
     "output_type": "execute_result"
    }
   ],
   "source": [
    "import numpy as np\n",
    "import matplotlib.pyplot as plt\n",
    "\n",
    "%matplotlib inline\n",
    "%config InlineBackend.figure_format='retina'\n",
    "\n",
    "# %pdb\n",
    "\n",
    "import pandas as pd\n",
    "\n",
    "gtd = pd.read_csv('gtd_utf.csv', encoding='latin1', low_memory=False)\n",
    "gtd.columns"
   ]
  },
  {
   "cell_type": "markdown",
   "metadata": {
    "deletable": true,
    "editable": true
   },
   "source": [
    "**Check groups bias**\n",
    "\n",
    "Which group is responsible for the attacks?"
   ]
  },
  {
   "cell_type": "code",
   "execution_count": 25,
   "metadata": {
    "collapsed": false,
    "deletable": true,
    "editable": true
   },
   "outputs": [
    {
     "name": "stdout",
     "output_type": "stream",
     "text": [
      "Number of groups = 3290\n",
      "Be careful with bias, Unknown = 45.8768%\n"
     ]
    },
    {
     "data": {
      "text/plain": [
       "[('Unknown', 71922),\n",
       " ('Taliban', 5502),\n",
       " ('Shining Path (SL)', 4548),\n",
       " ('Farabundo Marti National Liberation Front (FMLN)', 3351),\n",
       " ('Islamic State of Iraq and the Levant (ISIL)', 2833)]"
      ]
     },
     "execution_count": 25,
     "metadata": {},
     "output_type": "execute_result"
    }
   ],
   "source": [
    "from collections import Counter\n",
    "\n",
    "# Terrorist group name is the target\n",
    "target = gtd['gname']\n",
    "\n",
    "gcount = Counter(target)\n",
    "print('Number of groups = {}'.format(len(gcount)))\n",
    "g1 = gcount.most_common(1)[0]\n",
    "print('Be careful with bias, {} = {:.4f}%'.format(g1[0], 100 * g1[1] / target.size))\n",
    "gcount.most_common(5)"
   ]
  },
  {
   "cell_type": "markdown",
   "metadata": {
    "deletable": true,
    "editable": true
   },
   "source": [
    "# Step 2. Preprocessing"
   ]
  },
  {
   "cell_type": "code",
   "execution_count": 26,
   "metadata": {
    "collapsed": false,
    "deletable": true,
    "editable": true
   },
   "outputs": [
    {
     "data": {
      "text/plain": [
       "527"
      ]
     },
     "execution_count": 26,
     "metadata": {},
     "output_type": "execute_result"
    }
   ],
   "source": [
    "from collections import Counter\n",
    "\n",
    "threshold = 10\n",
    "group_count = Counter(gtd['gname'])\n",
    "groups = [group for group, counter in group_count.items() if counter >= threshold]\n",
    "len(groups)"
   ]
  },
  {
   "cell_type": "code",
   "execution_count": 27,
   "metadata": {
    "collapsed": false,
    "deletable": true,
    "editable": true
   },
   "outputs": [
    {
     "data": {
      "text/plain": [
       "150816"
      ]
     },
     "execution_count": 27,
     "metadata": {},
     "output_type": "execute_result"
    }
   ],
   "source": [
    "gtd_clean = gtd[gtd['gname'].isin(groups)]\n",
    "len(gtd_clean)"
   ]
  },
  {
   "cell_type": "markdown",
   "metadata": {
    "deletable": true,
    "editable": true
   },
   "source": [
    "### Step 2.1 Remove unknowns"
   ]
  },
  {
   "cell_type": "code",
   "execution_count": 28,
   "metadata": {
    "collapsed": false,
    "deletable": true,
    "editable": true
   },
   "outputs": [],
   "source": [
    "# Remove Unknowns\n",
    "\n",
    "region2 = gtd_clean[(gtd_clean['region']==2) & (gtd_clean['gname']!='Unknown')]\n",
    "total_region2 = len(region2)"
   ]
  },
  {
   "cell_type": "markdown",
   "metadata": {
    "deletable": true,
    "editable": true
   },
   "source": [
    "### Step 2.2 Remove a particular biased group"
   ]
  },
  {
   "cell_type": "code",
   "execution_count": 29,
   "metadata": {
    "collapsed": false,
    "deletable": true,
    "editable": true
   },
   "outputs": [],
   "source": [
    "# Remove a particular group that skews predictions\n",
    "\n",
    "#region2 = region2[(region2['gname']!='Farabundo Marti National Liberation Front (FMLN)')]\n",
    "#len(region2)"
   ]
  },
  {
   "cell_type": "markdown",
   "metadata": {
    "deletable": true,
    "editable": true
   },
   "source": [
    "# Step 3. Naive Bayes Classifier"
   ]
  },
  {
   "cell_type": "markdown",
   "metadata": {
    "deletable": true,
    "editable": true
   },
   "source": [
    "### Step 3.1 Splitting into Training and Testing sets"
   ]
  },
  {
   "cell_type": "code",
   "execution_count": 49,
   "metadata": {
    "collapsed": false,
    "deletable": true,
    "editable": true
   },
   "outputs": [],
   "source": [
    "from sklearn.model_selection import train_test_split\n",
    "\n",
    "features_used = ['iyear', 'country']\n",
    "\n",
    "data_target = region2['gname']\n",
    "data_features = region2[features_used]\n",
    "\n",
    "X_train, X_test, Y_train, Y_test = train_test_split(data_features, data_target, test_size=0.30)\n",
    "\n",
    "train = pd.concat([Y_train, X_train], axis=1)\n",
    "test = pd.concat([Y_test, X_test], axis=1)\n",
    "\n",
    "year_counts = X_train['iyear'].value_counts()\n",
    "total_years = len(year_counts)\n",
    "year_probabilities = year_counts / total_years\n",
    "\n",
    "country_counts = X_train['country'].value_counts()\n",
    "total_country = len(country_counts)\n",
    "country_probabilities = country_counts / total_country\n",
    "\n",
    "train_groups = pd.unique(Y_train)\n",
    "train_years = pd.unique(X_train['iyear'])\n",
    "train_countries = pd.unique(X_train['country'])\n",
    "\n",
    "train_groups_len = len(train_groups)\n",
    "train_years_len = len(train_years)\n",
    "train_countries_len = len(train_countries)\n",
    "\n",
    "train_groups_year_likelihoods = [(x, y, 0) for x in train_groups for y in train_years]\n",
    "train_groups_country_likelihoods = [(x, y, 0) for x in train_groups for y in train_countries]\n",
    "\n",
    "train_groups_year_likelihoods = pd.DataFrame(train_groups_year_likelihoods)\n",
    "train_groups_country_likelihoods = pd.DataFrame(train_groups_country_likelihoods)\n",
    "\n",
    "train_groups_year_likelihoods.columns = ['gname', 'year', 'likelihood']\n",
    "train_groups_country_likelihoods.columns = ['gname', 'country', 'likelihood']"
   ]
  },
  {
   "cell_type": "markdown",
   "metadata": {
    "collapsed": true,
    "deletable": true,
    "editable": true
   },
   "source": [
    "### Step 3.2 Do the magic"
   ]
  },
  {
   "cell_type": "code",
   "execution_count": 50,
   "metadata": {
    "collapsed": false,
    "deletable": true,
    "editable": true
   },
   "outputs": [
    {
     "name": "stdout",
     "output_type": "stream",
     "text": [
      "Good predictions 1325 out of 1908\n",
      "Accuracy: 69.4444444444%\n"
     ]
    }
   ],
   "source": [
    "from sklearn import datasets\n",
    "from sklearn.naive_bayes import GaussianNB, BernoulliNB, MultinomialNB\n",
    "\n",
    "gnb = MultinomialNB()\n",
    "y_pred = gnb.fit(X_train, Y_train).predict(X_test)\n",
    "\n",
    "good_predictions = (Y_test == y_pred).sum()\n",
    "total_predictions = len(Y_test)\n",
    "\n",
    "print(\"Good predictions \" + str(good_predictions) + \" out of \" + str(total_predictions))\n",
    "print\n",
    "print(\"Accuracy: \" + str((good_predictions/total_predictions)*100) + \"%\")"
   ]
  },
  {
   "cell_type": "code",
   "execution_count": 37,
   "metadata": {
    "collapsed": false
   },
   "outputs": [],
   "source": [
    "actual_vs_predicted = [(x, y) for x in Y_test for y in y_pred]\n",
    "\n",
    "print(actual_vs_predicted)"
   ]
  },
  {
   "cell_type": "code",
   "execution_count": 61,
   "metadata": {
    "collapsed": false
   },
   "outputs": [
    {
     "name": "stdout",
     "output_type": "stream",
     "text": [
      "51\n",
      "(51, 51)\n"
     ]
    }
   ],
   "source": [
    "from sklearn.metrics import confusion_matrix\n",
    "conf_arr = confusion_matrix(Y_test, y_pred)\n",
    "\n",
    "print(len(pd.unique(Y_test)))\n",
    "print(conf_arr.shape)"
   ]
  },
  {
   "cell_type": "code",
   "execution_count": 62,
   "metadata": {
    "collapsed": false
   },
   "outputs": [
    {
     "data": {
      "text/plain": [
       "\"\\nfor x in xrange(width):\\n    for y in xrange(height):\\n        ax.annotate(str(conf_arr[x][y]), xy=(y, x), \\n                    horizontalalignment='center',\\n                    verticalalignment='center')\\n\\ncb = fig.colorbar(res)\\nalphabet = 'ABCDEFGHIJKLMNOPQRSTUVWXYZ'\\nplt.xticks(range(width), alphabet[:width])\\nplt.yticks(range(height), alphabet[:height])\\nplt.savefig('confusion_matrix.png', format='png')\\n\""
      ]
     },
     "execution_count": 62,
     "metadata": {},
     "output_type": "execute_result"
    },
    {
     "data": {
      "image/png": "[encoded data removed]",
      "text/plain": [
       "<matplotlib.figure.Figure at 0x20313e16d68>"
      ]
     },
     "metadata": {
      "image/png": {
       "height": 250,
       "width": 255
      }
     },
     "output_type": "display_data"
    }
   ],
   "source": [
    "import numpy as np\n",
    "import matplotlib.pyplot as plt\n",
    "\n",
    "norm_conf = []\n",
    "for i in conf_arr:\n",
    "    a = 0\n",
    "    tmp_arr = []\n",
    "    a = sum(i, 0)\n",
    "    for j in i:\n",
    "        tmp_arr.append(float(j)/float(a))\n",
    "    norm_conf.append(tmp_arr)\n",
    "\n",
    "fig = plt.figure()\n",
    "plt.clf()\n",
    "ax = fig.add_subplot(111)\n",
    "ax.set_aspect(1)\n",
    "res = ax.imshow(np.array(conf_arr), cmap=plt.cm.jet, \n",
    "                interpolation='nearest')\n",
    "\n",
    "width, height = conf_arr.shape\n",
    "'''\n",
    "for x in xrange(width):\n",
    "    for y in xrange(height):\n",
    "        ax.annotate(str(conf_arr[x][y]), xy=(y, x), \n",
    "                    horizontalalignment='center',\n",
    "                    verticalalignment='center')\n",
    "\n",
    "cb = fig.colorbar(res)\n",
    "alphabet = 'ABCDEFGHIJKLMNOPQRSTUVWXYZ'\n",
    "plt.xticks(range(width), alphabet[:width])\n",
    "plt.yticks(range(height), alphabet[:height])\n",
    "plt.savefig('confusion_matrix.png', format='png')\n",
    "'''"
   ]
  }
 ],
 "metadata": {
  "kernelspec": {
   "display_name": "Python 3",
   "language": "python",
   "name": "python3"
  },
  "language_info": {
   "codemirror_mode": {
    "name": "ipython",
    "version": 3
   },
   "file_extension": ".py",
   "mimetype": "text/x-python",
   "name": "python",
   "nbconvert_exporter": "python",
   "pygments_lexer": "ipython3",
   "version": "3.6.0"
  }
 },
 "nbformat": 4,
 "nbformat_minor": 2
}
