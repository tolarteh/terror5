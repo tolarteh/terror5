{
 "cells": [
  {
   "cell_type": "markdown",
   "metadata": {},
   "source": [
    "<h1>Decision Tree </h1>\n",
    "\n",
    "<p>This code loads the GTD data and tries to build a decision tree.</p>\n",
    "<p>\n",
    "Referenced from <a>http://scikit-learn.org/stable/modules/tree.html#tree-algorithms</a>\n",
    "</p>"
   ]
  },
  {
   "cell_type": "code",
   "execution_count": 4,
   "metadata": {
    "collapsed": true
   },
   "outputs": [],
   "source": [
    "class GTD:\n",
    "    def __init__(self, data, target, feature_names, target_names):\n",
    "        self.data = data\n",
    "        self.target = target\n",
    "        self.feature_names = feature_names\n",
    "        self.target_names = target_names\n",
    "        "
   ]
  },
  {
   "cell_type": "code",
   "execution_count": 5,
   "metadata": {
    "collapsed": true
   },
   "outputs": [],
   "source": [
    "import pandas as pd\n",
    "import numpy as np\n",
    "from sklearn import preprocessing"
   ]
  },
  {
   "cell_type": "markdown",
   "metadata": {},
   "source": [
    "<h1>Load the data</h1>\n",
    "<p>Load the data</p>\n",
    "<p>Seperate the target and the inputs</p>"
   ]
  },
  {
   "cell_type": "code",
   "execution_count": 6,
   "metadata": {
    "collapsed": false
   },
   "outputs": [],
   "source": [
    "data = pd.read_csv('gtd_region_1.csv', encoding='latin1', low_memory=False)\n",
    "\n",
    "\n",
    "# print(data)\n",
    "\n",
    "# Seperate the target from the data\n",
    "\n",
    "targetLabelEncoder = preprocessing.LabelEncoder()\n",
    "targetLabelEncoder.fit(data['gname'].unique())\n",
    "requiredtarget = targetLabelEncoder.transform(data['gname'])\n",
    "\n",
    "requireduniquetarget = [data['gname'].unique(), list(range(len(data['gname'].unique())))]\n",
    "# requiredtarget = data['gname'].map( {requireduniquetarget[0]: requireduniquetarget[1]}).astype(int)\n",
    "\n",
    "from copy import deepcopy\n",
    "requireddata = deepcopy(data)"
   ]
  },
  {
   "cell_type": "markdown",
   "metadata": {},
   "source": [
    "<h1>Preprocessing of Data</h1>\n",
    "<p>Remove any features that are not required<p>\n",
    "<p>Set up data into the GTD object<p>"
   ]
  },
  {
   "cell_type": "code",
   "execution_count": 7,
   "metadata": {
    "collapsed": false,
    "scrolled": true
   },
   "outputs": [],
   "source": [
    "requireddata.drop(['approxdate', 'country_txt', 'region_txt', 'alternative_txt','attacktype1_txt',\n",
    "                   'attacktype2_txt','attacktype3_txt','targtype1_txt','targsubtype1_txt','natlty1_txt',\n",
    "                   'targtype2_txt','targsubtype2_txt','natlty2_txt','targtype3_txt','targsubtype3_txt',\n",
    "                   'natlty3_txt','claimmode_txt','claimmode2_txt','claimmode3_txt','weaptype1_txt',\n",
    "                   'weapsubtype1_txt','weaptype2_txt','weapsubtype2_txt','weaptype3_txt','weapsubtype3_txt',\n",
    "                  'weaptype4_txt','weapsubtype4_txt','propextent_txt','hostkidoutcome_txt','dbsource'],axis=1,inplace=True)\n",
    "\n",
    "gtd = GTD(requireddata.values, requiredtarget, list(requireddata), ['gname'])\n",
    "\n",
    "\n",
    "\n"
   ]
  },
  {
   "cell_type": "code",
   "execution_count": 8,
   "metadata": {
    "collapsed": false
   },
   "outputs": [
    {
     "name": "stdout",
     "output_type": "stream",
     "text": [
      "[[  0.00000000e+00   1.00000000e+00   0.00000000e+00   1.97000000e+03\n",
      "    1.00000000e+00]\n",
      " [  0.00000000e+00   0.00000000e+00   1.00000000e+00   1.97000000e+03\n",
      "    1.00000000e+00]\n",
      " [  0.00000000e+00   0.00000000e+00   1.00000000e+00   1.97000000e+03\n",
      "    1.00000000e+00]\n",
      " ..., \n",
      " [  0.00000000e+00   0.00000000e+00   1.00000000e+00   2.01500000e+03\n",
      "    1.00000000e+00]\n",
      " [  0.00000000e+00   0.00000000e+00   1.00000000e+00   2.01500000e+03\n",
      "    1.00000000e+00]\n",
      " [  0.00000000e+00   0.00000000e+00   1.00000000e+00   2.01500000e+03\n",
      "    1.00000000e+00]]\n"
     ]
    }
   ],
   "source": [
    "# # For decision tree encode categorical data. To begin with start encoding year, country and region\n",
    "\n",
    "from sklearn.feature_extraction import DictVectorizer\n",
    "features = data[['iyear', 'country_txt', 'region_txt']] \n",
    "\n",
    "# print(features)\n",
    "\n",
    "df = (pd.DataFrame(features)).to_dict(orient='records')\n",
    "dv = DictVectorizer(sparse=False) \n",
    "output = dv.fit_transform(features.to_dict(orient='records'))\n",
    "\n",
    "print(output)\n",
    "# \n",
    "\n",
    "\n",
    "# gtdHotEncoder = preprocessing.OneHotEncoder()\n",
    "# gtdHotEncoder.fit([requireddata['iyear'], requireddata['country'], requireddata['region']]) \n",
    "# gtdHotEncoder.n_values_\n",
    "# gtdHotEncoder.feature_indices_\n",
    "\n",
    "# a = gtdHotEncoder.transform([requireddata['iyear'], requireddata['country'], requireddata['region']]).toarray()\n",
    "# print(a)\n",
    "\n",
    "# f = open('out.txt', 'w')\n",
    "# print >> f, a\n",
    "# f.close()\n",
    "\n",
    "\n"
   ]
  },
  {
   "cell_type": "code",
   "execution_count": 9,
   "metadata": {
    "collapsed": true
   },
   "outputs": [],
   "source": [
    "# np.savetxt('test.csv', output, delimiter=',')"
   ]
  },
  {
   "cell_type": "code",
   "execution_count": 10,
   "metadata": {
    "collapsed": false
   },
   "outputs": [
    {
     "data": {
      "text/plain": [
       "['country_txt=Canada',\n",
       " 'country_txt=Mexico',\n",
       " 'country_txt=United States',\n",
       " 'iyear',\n",
       " 'region_txt=North America']"
      ]
     },
     "execution_count": 10,
     "metadata": {},
     "output_type": "execute_result"
    }
   ],
   "source": [
    "dv.get_feature_names()"
   ]
  },
  {
   "cell_type": "markdown",
   "metadata": {},
   "source": [
    "<h1>Decision Tree</h1>\n",
    "<p> Fit the data and target using decision tree classifier\n",
    "</p>"
   ]
  },
  {
   "cell_type": "code",
   "execution_count": 125,
   "metadata": {
    "collapsed": false
   },
   "outputs": [],
   "source": [
    "from sklearn import tree\n",
    "clf = tree.DecisionTreeClassifier(max_depth=8)\n",
    "# gtddata = gtd.data[:,1]\n",
    "# gtddata = np.column_stack((a, gtd.data[:,6]))\n",
    "# gtddata = np.column_stack((a, gtd.data[:,7]))\n",
    "clf = clf.fit(output, requiredtarget)"
   ]
  },
  {
   "cell_type": "markdown",
   "metadata": {},
   "source": [
    "<p>Install <b>graphviz</b> package if you don't have one.</p>\n",
    "<p>And install <b>pydotplot</b> - pip install pydotplus</p>"
   ]
  },
  {
   "cell_type": "code",
   "execution_count": 126,
   "metadata": {
    "collapsed": false
   },
   "outputs": [],
   "source": [
    "with open(\"gtd.dot\", 'w') as f:\n",
    "    f = tree.export_graphviz(clf, out_file=f,\n",
    "                            feature_names = dv.get_feature_names(),\n",
    "                             class_names = targetLabelEncoder.classes_,\n",
    "                             filled = True, rounded=True,\n",
    "                             special_characters=True)\n",
    "    \n",
    "    \n",
    "#     dot -Tpdf gtd.dot -o gtd.pdf\n"
   ]
  },
  {
   "cell_type": "code",
   "execution_count": 127,
   "metadata": {
    "collapsed": false
   },
   "outputs": [],
   "source": [
    "# import pydotplus\n",
    "\n",
    "# dot_data = tree.export_graphviz(clf, out_file=None)\n",
    "# graph = pydotplus.graph_from_dot_data(dot_data)\n",
    "# graph.write_pdf(\"gtd.pdf\")\n",
    "\n",
    "# from IPython.display import Image  \n",
    "# dot_data = tree.export_graphviz(clf, out_file=None, \n",
    "#                          feature_names=gtd.feature_names,  \n",
    "#                          class_names=gtd.target_names,  \n",
    "#                          filled=True, rounded=True,  \n",
    "#                          special_characters=True)  \n",
    "# graph = pydotplus.graph_from_dot_data(dot_data)  \n",
    "# Image(graph.create_png())  "
   ]
  },
  {
   "cell_type": "code",
   "execution_count": 128,
   "metadata": {
    "collapsed": false
   },
   "outputs": [
    {
     "data": {
      "text/plain": [
       "array([3150, 3150, 3150, 3150, 3150, 3150])"
      ]
     },
     "execution_count": 128,
     "metadata": {},
     "output_type": "execute_result"
    }
   ],
   "source": [
    "clf.predict(output[:6, :])"
   ]
  },
  {
   "cell_type": "code",
   "execution_count": 129,
   "metadata": {
    "collapsed": false
   },
   "outputs": [
    {
     "data": {
      "text/plain": [
       "array([[  1.13855017e-04,   4.55420068e-05,   1.13855017e-05, ...,\n",
       "          1.13855017e-05,   1.13855017e-05,   2.27710034e-05],\n",
       "       [  1.13855017e-04,   4.55420068e-05,   1.13855017e-05, ...,\n",
       "          1.13855017e-05,   1.13855017e-05,   2.27710034e-05],\n",
       "       [  1.13855017e-04,   4.55420068e-05,   1.13855017e-05, ...,\n",
       "          1.13855017e-05,   1.13855017e-05,   2.27710034e-05],\n",
       "       [  1.13855017e-04,   4.55420068e-05,   1.13855017e-05, ...,\n",
       "          1.13855017e-05,   1.13855017e-05,   2.27710034e-05],\n",
       "       [  1.13855017e-04,   4.55420068e-05,   1.13855017e-05, ...,\n",
       "          1.13855017e-05,   1.13855017e-05,   2.27710034e-05],\n",
       "       [  1.13855017e-04,   4.55420068e-05,   1.13855017e-05, ...,\n",
       "          1.13855017e-05,   1.13855017e-05,   2.27710034e-05]])"
      ]
     },
     "execution_count": 129,
     "metadata": {},
     "output_type": "execute_result"
    }
   ],
   "source": [
    "clf.predict_proba(output[:6,:])"
   ]
  },
  {
   "cell_type": "code",
   "execution_count": 130,
   "metadata": {
    "collapsed": false
   },
   "outputs": [
    {
     "data": {
      "text/plain": [
       "array(['1 May', '14 K Triad', '14 March Coalition', ...,\n",
       "       'unk masked raiders',\n",
       "       'unk, protest against USSR invasion of Afghanistan',\n",
       "       'unknown leftists opposed to summit'], dtype=object)"
      ]
     },
     "execution_count": 130,
     "metadata": {},
     "output_type": "execute_result"
    }
   ],
   "source": [
    "targetLabelEncoder.classes_"
   ]
  },
  {
   "cell_type": "code",
   "execution_count": 131,
   "metadata": {
    "collapsed": false
   },
   "outputs": [],
   "source": [
    "# enc = preprocessing.OneHotEncoder()\n",
    "# enc.fit([0, 0, 3], [1, 1, 0], [0, 2, 1], [1, 0, 2]) \n",
    "# enc.transform([[0, 1, 1]]).toarray()"
   ]
  },
  {
   "cell_type": "code",
   "execution_count": null,
   "metadata": {
    "collapsed": false
   },
   "outputs": [
    {
     "name": "stderr",
     "output_type": "stream",
     "text": [
      "//anaconda/lib/python3.5/site-packages/sklearn/cross_validation.py:516: Warning: The least populated class in y has only 1 members, which is too few. The minimum number of labels for any class cannot be less than n_folds=3.\n",
      "  % (min_labels, self.n_folds)), Warning)\n"
     ]
    }
   ],
   "source": [
    "from sklearn.cross_validation import cross_val_score\n",
    "from sklearn.ensemble import RandomForestClassifier\n",
    "clf = RandomForestClassifier(n_estimators=20, max_depth=4, min_samples_split=2)\n",
    "scores = cross_val_score(clf, output, requiredtarget)\n",
    "scores.mean() "
   ]
  },
  {
   "cell_type": "code",
   "execution_count": null,
   "metadata": {
    "collapsed": true
   },
   "outputs": [],
   "source": []
  },
  {
   "cell_type": "code",
   "execution_count": null,
   "metadata": {
    "collapsed": true
   },
   "outputs": [],
   "source": []
  },
  {
   "cell_type": "code",
   "execution_count": null,
   "metadata": {
    "collapsed": true
   },
   "outputs": [],
   "source": []
  }
 ],
 "metadata": {
  "anaconda-cloud": {},
  "kernelspec": {
   "display_name": "Python [default]",
   "language": "python",
   "name": "python3"
  },
  "language_info": {
   "codemirror_mode": {
    "name": "ipython",
    "version": 3
   },
   "file_extension": ".py",
   "mimetype": "text/x-python",
   "name": "python",
   "nbconvert_exporter": "python",
   "pygments_lexer": "ipython3",
   "version": "3.5.2"
  }
 },
 "nbformat": 4,
 "nbformat_minor": 1
}
