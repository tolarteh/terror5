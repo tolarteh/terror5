{
 "cells": [
  {
   "cell_type": "markdown",
   "metadata": {},
   "source": [
    "<h1>Decision Tree </h1>\n",
    "\n",
    "<p>This code loads the GTD data and tries to build a decision tree.</p>\n",
    "<p>\n",
    "Referenced from <a>http://scikit-learn.org/stable/modules/tree.html#tree-algorithms</a>\n",
    "</p>"
   ]
  },
  {
   "cell_type": "code",
   "execution_count": 22,
   "metadata": {
    "collapsed": true
   },
   "outputs": [],
   "source": [
    "class GTD:\n",
    "    def __init__(self, data, target, feature_names, target_names):\n",
    "        self.data = data\n",
    "        self.target = target\n",
    "        self.feature_names = feature_names\n",
    "        self.target_names = target_names\n",
    "        "
   ]
  },
  {
   "cell_type": "code",
   "execution_count": 23,
   "metadata": {
    "collapsed": true
   },
   "outputs": [],
   "source": [
    "import pandas as pd\n",
    "import numpy as np\n",
    "from sklearn import preprocessing"
   ]
  },
  {
   "cell_type": "markdown",
   "metadata": {},
   "source": [
    "<h1>Load the data</h1>\n",
    "<p>Load the data</p>\n",
    "<p>Seperate the target and the inputs</p>"
   ]
  },
  {
   "cell_type": "code",
   "execution_count": null,
   "metadata": {
    "collapsed": false
   },
   "outputs": [],
   "source": [
    "data = pd.read_csv('gtd.csv', encoding='latin1', low_memory=False)\n",
    "\n",
    "# Seperate the target from the data\n",
    "\n",
    "targetLabelEncoder = preprocessing.LabelEncoder()\n",
    "targetLabelEncoder.fit(data['gname'].unique())\n",
    "requiredtarget = targetLabelEncoder.transform(data['gname'])\n",
    "\n",
    "# requireduniquetarget = [data['gname'].unique(), list(range(len(data['gname'].unique())))]\n",
    "# requiredtarget = data['gname'].map( {requireduniquetarget[0]: requireduniquetarget[1]}).astype(int)\n",
    "\n",
    "# from copy import deepcopy\n",
    "# requireddata = deepcopy(data)"
   ]
  },
  {
   "cell_type": "markdown",
   "metadata": {},
   "source": [
    "<h1>Preprocessing of Data</h1>\n",
    "<p>Remove any features that are not required<p>\n",
    "<p>Set up data into the GTD object<p>"
   ]
  },
  {
   "cell_type": "code",
   "execution_count": null,
   "metadata": {
    "collapsed": false,
    "scrolled": true
   },
   "outputs": [],
   "source": [
    "requireddata.drop(['approxdate', 'country_txt', 'region_txt', 'alternative_txt','attacktype1_txt',\n",
    "                   'attacktype2_txt','attacktype3_txt','targtype1_txt','targsubtype1_txt','natlty1_txt',\n",
    "                   'targtype2_txt','targsubtype2_txt','natlty2_txt','targtype3_txt','targsubtype3_txt',\n",
    "                   'natlty3_txt','claimmode_txt','claimmode2_txt','claimmode3_txt','weaptype1_txt',\n",
    "                   'weapsubtype1_txt','weaptype2_txt','weapsubtype2_txt','weaptype3_txt','weapsubtype3_txt',\n",
    "                  'weaptype4_txt','weapsubtype4_txt','propextent_txt','hostkidoutcome_txt','dbsource'],axis=1,inplace=True)\n",
    "\n",
    "gtd = GTD(requireddata.values, requiredtarget, list(requireddata), ['gname'])\n",
    "\n",
    "\n",
    "\n"
   ]
  },
  {
   "cell_type": "code",
   "execution_count": 24,
   "metadata": {
    "collapsed": false
   },
   "outputs": [
    {
     "name": "stdout",
     "output_type": "stream",
     "text": [
      "[[ 0.  0.  0. ...,  0.  0.  0.]\n",
      " [ 0.  0.  0. ...,  0.  0.  0.]\n",
      " [ 0.  0.  0. ...,  1.  0.  0.]\n",
      " ..., \n",
      " [ 0.  0.  0. ...,  1.  0.  0.]\n",
      " [ 0.  0.  0. ...,  0.  1.  0.]\n",
      " [ 0.  0.  0. ...,  0.  0.  0.]]\n"
     ]
    }
   ],
   "source": [
    "# # For decision tree encode categorical data. To begin with start encoding year, country and region\n",
    "\n",
    "from sklearn.feature_extraction import DictVectorizer\n",
    "features = data[['iyear', 'country_txt', 'region_txt']] \n",
    "\n",
    "# print(features)\n",
    "\n",
    "df = (pd.DataFrame(features)).to_dict(orient='records')\n",
    "dv = DictVectorizer(sparse=False) \n",
    "output = dv.fit_transform(features.to_dict(orient='records'))\n",
    "\n",
    "print(output)\n",
    "# \n",
    "\n",
    "\n",
    "# gtdHotEncoder = preprocessing.OneHotEncoder()\n",
    "# gtdHotEncoder.fit([requireddata['iyear'], requireddata['country'], requireddata['region']]) \n",
    "# gtdHotEncoder.n_values_\n",
    "# gtdHotEncoder.feature_indices_\n",
    "\n",
    "# a = gtdHotEncoder.transform([requireddata['iyear'], requireddata['country'], requireddata['region']]).toarray()\n",
    "# print(a)\n",
    "\n",
    "# f = open('out.txt', 'w')\n",
    "# print >> f, a\n",
    "# f.close()\n",
    "\n",
    "\n"
   ]
  },
  {
   "cell_type": "code",
   "execution_count": 16,
   "metadata": {
    "collapsed": true
   },
   "outputs": [],
   "source": [
    "np.savetxt('test.csv', output, delimiter=',')"
   ]
  },
  {
   "cell_type": "code",
   "execution_count": 20,
   "metadata": {
    "collapsed": false
   },
   "outputs": [
    {
     "data": {
      "text/plain": [
       "['country_txt=Afghanistan',\n",
       " 'country_txt=Albania',\n",
       " 'country_txt=Algeria',\n",
       " 'country_txt=Andorra',\n",
       " 'country_txt=Angola',\n",
       " 'country_txt=Antigua and Barbuda',\n",
       " 'country_txt=Argentina',\n",
       " 'country_txt=Armenia',\n",
       " 'country_txt=Australia',\n",
       " 'country_txt=Austria',\n",
       " 'country_txt=Azerbaijan',\n",
       " 'country_txt=Bahamas',\n",
       " 'country_txt=Bahrain',\n",
       " 'country_txt=Bangladesh',\n",
       " 'country_txt=Barbados',\n",
       " 'country_txt=Belarus',\n",
       " 'country_txt=Belgium',\n",
       " 'country_txt=Belize',\n",
       " 'country_txt=Benin',\n",
       " 'country_txt=Bhutan',\n",
       " 'country_txt=Bolivia',\n",
       " 'country_txt=Bosnia-Herzegovina',\n",
       " 'country_txt=Botswana',\n",
       " 'country_txt=Brazil',\n",
       " 'country_txt=Brunei',\n",
       " 'country_txt=Bulgaria',\n",
       " 'country_txt=Burkina Faso',\n",
       " 'country_txt=Burundi',\n",
       " 'country_txt=Cambodia',\n",
       " 'country_txt=Cameroon',\n",
       " 'country_txt=Canada',\n",
       " 'country_txt=Central African Republic',\n",
       " 'country_txt=Chad',\n",
       " 'country_txt=Chile',\n",
       " 'country_txt=China',\n",
       " 'country_txt=Colombia',\n",
       " 'country_txt=Comoros',\n",
       " 'country_txt=Costa Rica',\n",
       " 'country_txt=Croatia',\n",
       " 'country_txt=Cuba',\n",
       " 'country_txt=Cyprus',\n",
       " 'country_txt=Czech Republic',\n",
       " 'country_txt=Czechoslovakia',\n",
       " 'country_txt=Democratic Republic of the Congo',\n",
       " 'country_txt=Denmark',\n",
       " 'country_txt=Djibouti',\n",
       " 'country_txt=Dominica',\n",
       " 'country_txt=Dominican Republic',\n",
       " 'country_txt=East Germany (GDR)',\n",
       " 'country_txt=East Timor',\n",
       " 'country_txt=Ecuador',\n",
       " 'country_txt=Egypt',\n",
       " 'country_txt=El Salvador',\n",
       " 'country_txt=Equatorial Guinea',\n",
       " 'country_txt=Eritrea',\n",
       " 'country_txt=Estonia',\n",
       " 'country_txt=Ethiopia',\n",
       " 'country_txt=Falkland Islands',\n",
       " 'country_txt=Fiji',\n",
       " 'country_txt=Finland',\n",
       " 'country_txt=France',\n",
       " 'country_txt=French Guiana',\n",
       " 'country_txt=French Polynesia',\n",
       " 'country_txt=Gabon',\n",
       " 'country_txt=Gambia',\n",
       " 'country_txt=Georgia',\n",
       " 'country_txt=Germany',\n",
       " 'country_txt=Ghana',\n",
       " 'country_txt=Gibraltar',\n",
       " 'country_txt=Greece',\n",
       " 'country_txt=Grenada',\n",
       " 'country_txt=Guadeloupe',\n",
       " 'country_txt=Guatemala',\n",
       " 'country_txt=Guinea',\n",
       " 'country_txt=Guinea-Bissau',\n",
       " 'country_txt=Guyana',\n",
       " 'country_txt=Haiti',\n",
       " 'country_txt=Honduras',\n",
       " 'country_txt=Hong Kong',\n",
       " 'country_txt=Hungary',\n",
       " 'country_txt=Iceland',\n",
       " 'country_txt=India',\n",
       " 'country_txt=Indonesia',\n",
       " 'country_txt=International',\n",
       " 'country_txt=Iran',\n",
       " 'country_txt=Iraq',\n",
       " 'country_txt=Ireland',\n",
       " 'country_txt=Israel',\n",
       " 'country_txt=Italy',\n",
       " 'country_txt=Ivory Coast',\n",
       " 'country_txt=Jamaica',\n",
       " 'country_txt=Japan',\n",
       " 'country_txt=Jordan',\n",
       " 'country_txt=Kazakhstan',\n",
       " 'country_txt=Kenya',\n",
       " 'country_txt=Kosovo',\n",
       " 'country_txt=Kuwait',\n",
       " 'country_txt=Kyrgyzstan',\n",
       " 'country_txt=Laos',\n",
       " 'country_txt=Latvia',\n",
       " 'country_txt=Lebanon',\n",
       " 'country_txt=Lesotho',\n",
       " 'country_txt=Liberia',\n",
       " 'country_txt=Libya',\n",
       " 'country_txt=Lithuania',\n",
       " 'country_txt=Luxembourg',\n",
       " 'country_txt=Macau',\n",
       " 'country_txt=Macedonia',\n",
       " 'country_txt=Madagascar',\n",
       " 'country_txt=Malawi',\n",
       " 'country_txt=Malaysia',\n",
       " 'country_txt=Maldives',\n",
       " 'country_txt=Mali',\n",
       " 'country_txt=Malta',\n",
       " 'country_txt=Martinique',\n",
       " 'country_txt=Mauritania',\n",
       " 'country_txt=Mauritius',\n",
       " 'country_txt=Mexico',\n",
       " 'country_txt=Moldova',\n",
       " 'country_txt=Montenegro',\n",
       " 'country_txt=Morocco',\n",
       " 'country_txt=Mozambique',\n",
       " 'country_txt=Myanmar',\n",
       " 'country_txt=Namibia',\n",
       " 'country_txt=Nepal',\n",
       " 'country_txt=Netherlands',\n",
       " 'country_txt=New Caledonia',\n",
       " 'country_txt=New Hebrides',\n",
       " 'country_txt=New Zealand',\n",
       " 'country_txt=Nicaragua',\n",
       " 'country_txt=Niger',\n",
       " 'country_txt=Nigeria',\n",
       " 'country_txt=North Korea',\n",
       " 'country_txt=North Yemen',\n",
       " 'country_txt=Norway',\n",
       " 'country_txt=Pakistan',\n",
       " 'country_txt=Panama',\n",
       " 'country_txt=Papua New Guinea',\n",
       " 'country_txt=Paraguay',\n",
       " \"country_txt=People's Republic of the Congo\",\n",
       " 'country_txt=Peru',\n",
       " 'country_txt=Philippines',\n",
       " 'country_txt=Poland',\n",
       " 'country_txt=Portugal',\n",
       " 'country_txt=Qatar',\n",
       " 'country_txt=Republic of the Congo',\n",
       " 'country_txt=Rhodesia',\n",
       " 'country_txt=Romania',\n",
       " 'country_txt=Russia',\n",
       " 'country_txt=Rwanda',\n",
       " 'country_txt=Saudi Arabia',\n",
       " 'country_txt=Senegal',\n",
       " 'country_txt=Serbia',\n",
       " 'country_txt=Serbia-Montenegro',\n",
       " 'country_txt=Seychelles',\n",
       " 'country_txt=Sierra Leone',\n",
       " 'country_txt=Singapore',\n",
       " 'country_txt=Slovak Republic',\n",
       " 'country_txt=Slovenia',\n",
       " 'country_txt=Solomon Islands',\n",
       " 'country_txt=Somalia',\n",
       " 'country_txt=South Africa',\n",
       " 'country_txt=South Korea',\n",
       " 'country_txt=South Sudan',\n",
       " 'country_txt=South Vietnam',\n",
       " 'country_txt=South Yemen',\n",
       " 'country_txt=Soviet Union',\n",
       " 'country_txt=Spain',\n",
       " 'country_txt=Sri Lanka',\n",
       " 'country_txt=St. Kitts and Nevis',\n",
       " 'country_txt=St. Lucia',\n",
       " 'country_txt=Sudan',\n",
       " 'country_txt=Suriname',\n",
       " 'country_txt=Swaziland',\n",
       " 'country_txt=Sweden',\n",
       " 'country_txt=Switzerland',\n",
       " 'country_txt=Syria',\n",
       " 'country_txt=Taiwan',\n",
       " 'country_txt=Tajikistan',\n",
       " 'country_txt=Tanzania',\n",
       " 'country_txt=Thailand',\n",
       " 'country_txt=Togo',\n",
       " 'country_txt=Trinidad and Tobago',\n",
       " 'country_txt=Tunisia',\n",
       " 'country_txt=Turkey',\n",
       " 'country_txt=Turkmenistan',\n",
       " 'country_txt=Uganda',\n",
       " 'country_txt=Ukraine',\n",
       " 'country_txt=United Arab Emirates',\n",
       " 'country_txt=United Kingdom',\n",
       " 'country_txt=United States',\n",
       " 'country_txt=Uruguay',\n",
       " 'country_txt=Uzbekistan',\n",
       " 'country_txt=Vanuatu',\n",
       " 'country_txt=Vatican City',\n",
       " 'country_txt=Venezuela',\n",
       " 'country_txt=Vietnam',\n",
       " 'country_txt=Wallis and Futuna',\n",
       " 'country_txt=West Bank and Gaza Strip',\n",
       " 'country_txt=West Germany (FRG)',\n",
       " 'country_txt=Western Sahara',\n",
       " 'country_txt=Yemen',\n",
       " 'country_txt=Yugoslavia',\n",
       " 'country_txt=Zaire',\n",
       " 'country_txt=Zambia',\n",
       " 'country_txt=Zimbabwe',\n",
       " 'iyear',\n",
       " 'region_txt=Australasia & Oceania',\n",
       " 'region_txt=Central America & Caribbean',\n",
       " 'region_txt=Central Asia',\n",
       " 'region_txt=East Asia',\n",
       " 'region_txt=Eastern Europe',\n",
       " 'region_txt=Middle East & North Africa',\n",
       " 'region_txt=North America',\n",
       " 'region_txt=South America',\n",
       " 'region_txt=South Asia',\n",
       " 'region_txt=Southeast Asia',\n",
       " 'region_txt=Sub-Saharan Africa',\n",
       " 'region_txt=Western Europe']"
      ]
     },
     "execution_count": 20,
     "metadata": {},
     "output_type": "execute_result"
    }
   ],
   "source": [
    "dv.get_feature_names()"
   ]
  },
  {
   "cell_type": "markdown",
   "metadata": {},
   "source": [
    "<h1>Decision Tree</h1>\n",
    "<p> Fit the data and target using decision tree classifier\n",
    "</p>"
   ]
  },
  {
   "cell_type": "code",
   "execution_count": 25,
   "metadata": {
    "collapsed": false
   },
   "outputs": [],
   "source": [
    "from sklearn import tree\n",
    "clf = tree.DecisionTreeClassifier(max_depth=4)\n",
    "# gtddata = gtd.data[:,1]\n",
    "# gtddata = np.column_stack((a, gtd.data[:,6]))\n",
    "# gtddata = np.column_stack((a, gtd.data[:,7]))\n",
    "clf = clf.fit(output, requiredtarget)"
   ]
  },
  {
   "cell_type": "markdown",
   "metadata": {},
   "source": [
    "<p>Install <b>graphviz</b> package if you don't have one.</p>\n",
    "<p>And install <b>pydotplot</b> - pip install pydotplus</p>"
   ]
  },
  {
   "cell_type": "code",
   "execution_count": 26,
   "metadata": {
    "collapsed": false
   },
   "outputs": [],
   "source": [
    "with open(\"gtd.dot\", 'w') as f:\n",
    "    f = tree.export_graphviz(clf, out_file=f,\n",
    "                            feature_names = dv.get_feature_names(),\n",
    "                             class_names = targetLabelEncoder.classes_,\n",
    "                             filled = True, rounded=True,\n",
    "                             special_characters=True)\n",
    "    \n",
    "    \n",
    "#     dot -Tpdf gtd.dot -o gtd.pdf\n"
   ]
  },
  {
   "cell_type": "code",
   "execution_count": null,
   "metadata": {
    "collapsed": false
   },
   "outputs": [],
   "source": [
    "# import pydotplus\n",
    "\n",
    "# dot_data = tree.export_graphviz(clf, out_file=None)\n",
    "# graph = pydotplus.graph_from_dot_data(dot_data)\n",
    "# graph.write_pdf(\"gtd.pdf\")\n",
    "\n",
    "# from IPython.display import Image  \n",
    "# dot_data = tree.export_graphviz(clf, out_file=None, \n",
    "#                          feature_names=gtd.feature_names,  \n",
    "#                          class_names=gtd.target_names,  \n",
    "#                          filled=True, rounded=True,  \n",
    "#                          special_characters=True)  \n",
    "# graph = pydotplus.graph_from_dot_data(dot_data)  \n",
    "# Image(graph.create_png())  "
   ]
  },
  {
   "cell_type": "code",
   "execution_count": null,
   "metadata": {
    "collapsed": false
   },
   "outputs": [],
   "source": [
    "clf.predict(gtddata[:1, :])"
   ]
  },
  {
   "cell_type": "code",
   "execution_count": null,
   "metadata": {
    "collapsed": false
   },
   "outputs": [],
   "source": [
    "clf.predict_proba(gtddata[:1,:])"
   ]
  },
  {
   "cell_type": "code",
   "execution_count": null,
   "metadata": {
    "collapsed": false
   },
   "outputs": [],
   "source": [
    "targetLabelEncoder.classes_"
   ]
  },
  {
   "cell_type": "code",
   "execution_count": null,
   "metadata": {
    "collapsed": false
   },
   "outputs": [],
   "source": [
    "enc = preprocessing.OneHotEncoder()\n",
    "enc.fit([0, 0, 3], [1, 1, 0], [0, 2, 1], [1, 0, 2]) \n",
    "enc.transform([[0, 1, 1]]).toarray()"
   ]
  },
  {
   "cell_type": "code",
   "execution_count": null,
   "metadata": {
    "collapsed": false
   },
   "outputs": [],
   "source": [
    "print('hello')"
   ]
  },
  {
   "cell_type": "code",
   "execution_count": null,
   "metadata": {
    "collapsed": true
   },
   "outputs": [],
   "source": []
  }
 ],
 "metadata": {
  "anaconda-cloud": {},
  "kernelspec": {
   "display_name": "Python [default]",
   "language": "python",
   "name": "python3"
  },
  "language_info": {
   "codemirror_mode": {
    "name": "ipython",
    "version": 3
   },
   "file_extension": ".py",
   "mimetype": "text/x-python",
   "name": "python",
   "nbconvert_exporter": "python",
   "pygments_lexer": "ipython3",
   "version": "3.5.2"
  }
 },
 "nbformat": 4,
 "nbformat_minor": 1
}
