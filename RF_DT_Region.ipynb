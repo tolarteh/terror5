{
 "cells": [
  {
   "cell_type": "code",
   "execution_count": 15,
   "metadata": {
    "collapsed": false
   },
   "outputs": [
    {
     "name": "stdout",
     "output_type": "stream",
     "text": [
      "\n",
      " Region1\n",
      "----------\n",
      "\n",
      " Random Forest:\n"
     ]
    },
    {
     "name": "stderr",
     "output_type": "stream",
     "text": [
      "/Users/bhargavisri/anaconda/lib/python3.5/site-packages/sklearn/model_selection/_split.py:581: Warning: The least populated class in y has only 1 members, which is too few. The minimum number of groups for any class cannot be less than n_splits=3.\n",
      "  % (min_groups, self.n_splits)), Warning)\n"
     ]
    },
    {
     "name": "stdout",
     "output_type": "stream",
     "text": [
      "CV - 0.44075924413707074\n",
      "RecallScore - 0.5097744360902255\n",
      "AUC - nan\n",
      "\n",
      " Decision Tree:\n"
     ]
    },
    {
     "name": "stderr",
     "output_type": "stream",
     "text": [
      "/Users/bhargavisri/anaconda/lib/python3.5/site-packages/sklearn/metrics/ranking.py:542: UndefinedMetricWarning: No positive samples in y_true, true positive value should be meaningless\n",
      "  UndefinedMetricWarning)\n",
      "/Users/bhargavisri/anaconda/lib/python3.5/site-packages/sklearn/model_selection/_split.py:581: Warning: The least populated class in y has only 1 members, which is too few. The minimum number of groups for any class cannot be less than n_splits=3.\n",
      "  % (min_groups, self.n_splits)), Warning)\n"
     ]
    },
    {
     "name": "stdout",
     "output_type": "stream",
     "text": [
      "CV - 0.379178424877711\n",
      "RecallScore - 0.4330827067669173\n",
      "AUC - nan\n"
     ]
    },
    {
     "name": "stderr",
     "output_type": "stream",
     "text": [
      "/Users/bhargavisri/anaconda/lib/python3.5/site-packages/sklearn/metrics/ranking.py:542: UndefinedMetricWarning: No positive samples in y_true, true positive value should be meaningless\n",
      "  UndefinedMetricWarning)\n"
     ]
    },
    {
     "name": "stdout",
     "output_type": "stream",
     "text": [
      "\n",
      " Region2\n",
      "----------\n",
      "\n",
      " Random Forest:\n"
     ]
    },
    {
     "name": "stderr",
     "output_type": "stream",
     "text": [
      "/Users/bhargavisri/anaconda/lib/python3.5/site-packages/sklearn/model_selection/_split.py:581: Warning: The least populated class in y has only 1 members, which is too few. The minimum number of groups for any class cannot be less than n_splits=3.\n",
      "  % (min_groups, self.n_splits)), Warning)\n"
     ]
    },
    {
     "name": "stdout",
     "output_type": "stream",
     "text": [
      "CV - 0.7567267977167612\n",
      "RecallScore - 0.7751418256833419\n",
      "AUC - nan\n",
      "\n",
      " Decision Tree:\n"
     ]
    },
    {
     "name": "stderr",
     "output_type": "stream",
     "text": [
      "/Users/bhargavisri/anaconda/lib/python3.5/site-packages/sklearn/metrics/ranking.py:542: UndefinedMetricWarning: No positive samples in y_true, true positive value should be meaningless\n",
      "  UndefinedMetricWarning)\n",
      "/Users/bhargavisri/anaconda/lib/python3.5/site-packages/sklearn/model_selection/_split.py:581: Warning: The least populated class in y has only 1 members, which is too few. The minimum number of groups for any class cannot be less than n_splits=3.\n",
      "  % (min_groups, self.n_splits)), Warning)\n"
     ]
    },
    {
     "name": "stdout",
     "output_type": "stream",
     "text": [
      "CV - 0.8015802163726434\n",
      "RecallScore - 0.7952552862300155\n",
      "AUC - nan\n"
     ]
    },
    {
     "name": "stderr",
     "output_type": "stream",
     "text": [
      "/Users/bhargavisri/anaconda/lib/python3.5/site-packages/sklearn/metrics/ranking.py:542: UndefinedMetricWarning: No positive samples in y_true, true positive value should be meaningless\n",
      "  UndefinedMetricWarning)\n"
     ]
    },
    {
     "name": "stdout",
     "output_type": "stream",
     "text": [
      "\n",
      " Region3\n",
      "----------\n",
      "\n",
      " Random Forest:\n"
     ]
    },
    {
     "name": "stderr",
     "output_type": "stream",
     "text": [
      "/Users/bhargavisri/anaconda/lib/python3.5/site-packages/sklearn/model_selection/_split.py:581: Warning: The least populated class in y has only 1 members, which is too few. The minimum number of groups for any class cannot be less than n_splits=3.\n",
      "  % (min_groups, self.n_splits)), Warning)\n"
     ]
    },
    {
     "name": "stdout",
     "output_type": "stream",
     "text": [
      "CV - 0.6737094465665701\n",
      "RecallScore - 0.6995686374016747\n",
      "AUC - 0.0531860878395532\n",
      "\n",
      " Decision Tree:\n"
     ]
    },
    {
     "name": "stderr",
     "output_type": "stream",
     "text": [
      "/Users/bhargavisri/anaconda/lib/python3.5/site-packages/sklearn/model_selection/_split.py:581: Warning: The least populated class in y has only 1 members, which is too few. The minimum number of groups for any class cannot be less than n_splits=3.\n",
      "  % (min_groups, self.n_splits)), Warning)\n"
     ]
    },
    {
     "name": "stdout",
     "output_type": "stream",
     "text": [
      "CV - 0.6741373615242833\n",
      "RecallScore - 0.6972849530575996\n",
      "AUC - 0.0509012439705509\n",
      "\n",
      " Region4\n",
      "----------\n",
      "\n",
      " Random Forest:\n",
      "CV - 0.5756056808688388\n"
     ]
    },
    {
     "name": "stderr",
     "output_type": "stream",
     "text": [
      "/Users/bhargavisri/anaconda/lib/python3.5/site-packages/sklearn/model_selection/_split.py:581: Warning: The least populated class in y has only 1 members, which is too few. The minimum number of groups for any class cannot be less than n_splits=3.\n",
      "  % (min_groups, self.n_splits)), Warning)\n",
      "/Users/bhargavisri/anaconda/lib/python3.5/site-packages/sklearn/model_selection/_split.py:581: Warning: The least populated class in y has only 1 members, which is too few. The minimum number of groups for any class cannot be less than n_splits=3.\n",
      "  % (min_groups, self.n_splits)), Warning)\n"
     ]
    },
    {
     "name": "stdout",
     "output_type": "stream",
     "text": [
      "RecallScore - 0.5060240963855421\n",
      "AUC - 0.2692307692307693\n",
      "\n",
      " Decision Tree:\n",
      "CV - 0.5883806739069897\n",
      "RecallScore - 0.4819277108433735\n",
      "AUC - 0.2846153846153846\n",
      "\n",
      " Region5\n",
      "----------\n",
      "\n",
      " Random Forest:\n"
     ]
    },
    {
     "name": "stderr",
     "output_type": "stream",
     "text": [
      "/Users/bhargavisri/anaconda/lib/python3.5/site-packages/sklearn/model_selection/_split.py:581: Warning: The least populated class in y has only 1 members, which is too few. The minimum number of groups for any class cannot be less than n_splits=3.\n",
      "  % (min_groups, self.n_splits)), Warning)\n"
     ]
    },
    {
     "name": "stdout",
     "output_type": "stream",
     "text": [
      "CV - 0.6222681204647128\n",
      "RecallScore - 0.6024405908798972\n",
      "AUC - 0.28245501285347047\n",
      "\n",
      " Decision Tree:\n"
     ]
    },
    {
     "name": "stderr",
     "output_type": "stream",
     "text": [
      "/Users/bhargavisri/anaconda/lib/python3.5/site-packages/sklearn/model_selection/_split.py:581: Warning: The least populated class in y has only 1 members, which is too few. The minimum number of groups for any class cannot be less than n_splits=3.\n",
      "  % (min_groups, self.n_splits)), Warning)\n"
     ]
    },
    {
     "name": "stdout",
     "output_type": "stream",
     "text": [
      "CV - 0.62641358617071\n",
      "RecallScore - 0.6332691072575466\n",
      "AUC - 0.1796272493573265\n",
      "\n",
      " Region6\n",
      "----------\n",
      "\n",
      " Random Forest:\n"
     ]
    },
    {
     "name": "stderr",
     "output_type": "stream",
     "text": [
      "/Users/bhargavisri/anaconda/lib/python3.5/site-packages/sklearn/model_selection/_split.py:581: Warning: The least populated class in y has only 1 members, which is too few. The minimum number of groups for any class cannot be less than n_splits=3.\n",
      "  % (min_groups, self.n_splits)), Warning)\n"
     ]
    },
    {
     "name": "stdout",
     "output_type": "stream",
     "text": [
      "CV - 0.6347039458658609\n",
      "RecallScore - 0.6580133405444384\n",
      "AUC - nan\n",
      "\n",
      " Decision Tree:\n"
     ]
    },
    {
     "name": "stderr",
     "output_type": "stream",
     "text": [
      "/Users/bhargavisri/anaconda/lib/python3.5/site-packages/sklearn/metrics/ranking.py:542: UndefinedMetricWarning: No positive samples in y_true, true positive value should be meaningless\n",
      "  UndefinedMetricWarning)\n",
      "/Users/bhargavisri/anaconda/lib/python3.5/site-packages/sklearn/model_selection/_split.py:581: Warning: The least populated class in y has only 1 members, which is too few. The minimum number of groups for any class cannot be less than n_splits=3.\n",
      "  % (min_groups, self.n_splits)), Warning)\n"
     ]
    },
    {
     "name": "stdout",
     "output_type": "stream",
     "text": [
      "CV - 0.6499729310879699\n",
      "RecallScore - 0.653145844600685\n",
      "AUC - nan\n",
      "\n",
      " Region7\n",
      "----------\n",
      "\n",
      " Random Forest:\n",
      "CV - 0.0880952380952381\n",
      "RecallScore - 0.3333333333333333\n",
      "AUC - 0.5555555555555556\n",
      "\n",
      " Decision Tree:\n",
      "CV - 0.13809523809523808\n",
      "RecallScore - 0.2857142857142857\n",
      "AUC - 0.32407407407407407\n"
     ]
    },
    {
     "name": "stderr",
     "output_type": "stream",
     "text": [
      "/Users/bhargavisri/anaconda/lib/python3.5/site-packages/sklearn/metrics/ranking.py:542: UndefinedMetricWarning: No positive samples in y_true, true positive value should be meaningless\n",
      "  UndefinedMetricWarning)\n",
      "/Users/bhargavisri/anaconda/lib/python3.5/site-packages/sklearn/model_selection/_split.py:581: Warning: The least populated class in y has only 1 members, which is too few. The minimum number of groups for any class cannot be less than n_splits=3.\n",
      "  % (min_groups, self.n_splits)), Warning)\n",
      "/Users/bhargavisri/anaconda/lib/python3.5/site-packages/sklearn/model_selection/_split.py:581: Warning: The least populated class in y has only 1 members, which is too few. The minimum number of groups for any class cannot be less than n_splits=3.\n",
      "  % (min_groups, self.n_splits)), Warning)\n"
     ]
    },
    {
     "name": "stdout",
     "output_type": "stream",
     "text": [
      "\n",
      " Region8\n",
      "----------\n",
      "\n",
      " Random Forest:\n"
     ]
    },
    {
     "name": "stderr",
     "output_type": "stream",
     "text": [
      "/Users/bhargavisri/anaconda/lib/python3.5/site-packages/sklearn/model_selection/_split.py:581: Warning: The least populated class in y has only 1 members, which is too few. The minimum number of groups for any class cannot be less than n_splits=3.\n",
      "  % (min_groups, self.n_splits)), Warning)\n"
     ]
    },
    {
     "name": "stdout",
     "output_type": "stream",
     "text": [
      "CV - 0.6204321187185613\n",
      "RecallScore - 0.6273133375877473\n",
      "AUC - 0.3774498606606057\n",
      "\n",
      " Decision Tree:\n"
     ]
    },
    {
     "name": "stderr",
     "output_type": "stream",
     "text": [
      "/Users/bhargavisri/anaconda/lib/python3.5/site-packages/sklearn/model_selection/_split.py:581: Warning: The least populated class in y has only 1 members, which is too few. The minimum number of groups for any class cannot be less than n_splits=3.\n",
      "  % (min_groups, self.n_splits)), Warning)\n"
     ]
    },
    {
     "name": "stdout",
     "output_type": "stream",
     "text": [
      "CV - 0.5523503692699295\n",
      "RecallScore - 0.5456285896617741\n",
      "AUC - 0.53417241536845\n",
      "\n",
      " Region9\n",
      "----------\n",
      "\n",
      " Random Forest:\n"
     ]
    },
    {
     "name": "stderr",
     "output_type": "stream",
     "text": [
      "/Users/bhargavisri/anaconda/lib/python3.5/site-packages/sklearn/model_selection/_split.py:581: Warning: The least populated class in y has only 1 members, which is too few. The minimum number of groups for any class cannot be less than n_splits=3.\n",
      "  % (min_groups, self.n_splits)), Warning)\n"
     ]
    },
    {
     "name": "stdout",
     "output_type": "stream",
     "text": [
      "CV - 0.6098599278019826\n",
      "RecallScore - 0.6271929824561403\n",
      "AUC - 0.9714285714285714\n",
      "\n",
      " Decision Tree:\n"
     ]
    },
    {
     "name": "stderr",
     "output_type": "stream",
     "text": [
      "/Users/bhargavisri/anaconda/lib/python3.5/site-packages/sklearn/model_selection/_split.py:581: Warning: The least populated class in y has only 1 members, which is too few. The minimum number of groups for any class cannot be less than n_splits=3.\n",
      "  % (min_groups, self.n_splits)), Warning)\n"
     ]
    },
    {
     "name": "stdout",
     "output_type": "stream",
     "text": [
      "CV - 0.6080758064817329\n",
      "RecallScore - 0.6337719298245614\n",
      "AUC - 0.9428571428571427\n",
      "\n",
      " Region10\n",
      "----------\n",
      "\n",
      " Random Forest:\n"
     ]
    },
    {
     "name": "stderr",
     "output_type": "stream",
     "text": [
      "/Users/bhargavisri/anaconda/lib/python3.5/site-packages/sklearn/model_selection/_split.py:581: Warning: The least populated class in y has only 1 members, which is too few. The minimum number of groups for any class cannot be less than n_splits=3.\n",
      "  % (min_groups, self.n_splits)), Warning)\n"
     ]
    },
    {
     "name": "stdout",
     "output_type": "stream",
     "text": [
      "CV - 0.5931891367490576\n",
      "RecallScore - 0.6079081069140712\n",
      "AUC - 0.4388323750552852\n",
      "\n",
      " Decision Tree:\n"
     ]
    },
    {
     "name": "stderr",
     "output_type": "stream",
     "text": [
      "/Users/bhargavisri/anaconda/lib/python3.5/site-packages/sklearn/model_selection/_split.py:581: Warning: The least populated class in y has only 1 members, which is too few. The minimum number of groups for any class cannot be less than n_splits=3.\n",
      "  % (min_groups, self.n_splits)), Warning)\n"
     ]
    },
    {
     "name": "stdout",
     "output_type": "stream",
     "text": [
      "CV - 0.5625080823600997\n",
      "RecallScore - 0.5663795007731389\n",
      "AUC - 0.4855594869526758\n",
      "\n",
      " Region11\n",
      "----------\n",
      "\n",
      " Random Forest:\n"
     ]
    },
    {
     "name": "stderr",
     "output_type": "stream",
     "text": [
      "/Users/bhargavisri/anaconda/lib/python3.5/site-packages/sklearn/model_selection/_split.py:581: Warning: The least populated class in y has only 1 members, which is too few. The minimum number of groups for any class cannot be less than n_splits=3.\n",
      "  % (min_groups, self.n_splits)), Warning)\n"
     ]
    },
    {
     "name": "stdout",
     "output_type": "stream",
     "text": [
      "CV - 0.7275820092691467\n",
      "RecallScore - 0.7676229508196721\n",
      "AUC - 0.5796744631377376\n",
      "\n",
      " Decision Tree:\n"
     ]
    },
    {
     "name": "stderr",
     "output_type": "stream",
     "text": [
      "/Users/bhargavisri/anaconda/lib/python3.5/site-packages/sklearn/model_selection/_split.py:581: Warning: The least populated class in y has only 1 members, which is too few. The minimum number of groups for any class cannot be less than n_splits=3.\n",
      "  % (min_groups, self.n_splits)), Warning)\n"
     ]
    },
    {
     "name": "stdout",
     "output_type": "stream",
     "text": [
      "CV - 0.6635704947970386\n",
      "RecallScore - 0.6872950819672131\n",
      "AUC - 0.3143892764327725\n"
     ]
    }
   ],
   "source": [
    "import numpy as np\n",
    "from sklearn.model_selection import cross_val_score\n",
    "from sklearn.ensemble import RandomForestClassifier\n",
    "from sklearn.metrics import recall_score\n",
    "from sklearn import tree\n",
    "from sklearn import metrics\n",
    "\n",
    "for i in range(1,12) :\n",
    "    testX = np.genfromtxt('gtd_region_test_I_{}.csv'.format(i),delimiter=',')\n",
    "    testY = np.genfromtxt('gtd_region_test_T_{}.csv'.format(i),delimiter=',')\n",
    "    trainX = np.genfromtxt('gtd_region_train_I_{}.csv'.format(i),delimiter=',')\n",
    "    trainY = np.genfromtxt('gtd_region_train_T_{}.csv'.format(i),delimiter=',')\n",
    "    \n",
    "    print('\\n Region{}'.format(i))\n",
    "    print('----------')\n",
    "    \n",
    "    print('\\n Random Forest:')\n",
    "    clf_rf = RandomForestClassifier(n_estimators=10, max_depth=16)\n",
    "    scores = cross_val_score(clf_rf, trainX, trainY)\n",
    "    \n",
    "    print('CV - {}'.format(scores.mean()))\n",
    "    \n",
    "    clf_rf.fit(trainX, trainY)\n",
    "    predict = clf_rf.predict(testX)\n",
    "    print('RecallScore - {}'.format(recall_score(testY, predict,average='micro')))\n",
    "    \n",
    "    fpr, tpr, thresholds = metrics.roc_curve(testY, predict, pos_label=2)\n",
    "    print('AUC - {}'.format(metrics.auc(fpr, tpr)))\n",
    "    \n",
    "    print('\\n Decision Tree:')\n",
    "    clf = tree.DecisionTreeClassifier(max_depth=8)\n",
    "    scores = cross_val_score(clf, trainX, trainY)\n",
    "    \n",
    "    print('CV - {}'.format(scores.mean()))\n",
    "    \n",
    "    clf.fit(trainX, trainY)\n",
    "    predict = clf.predict(testX)\n",
    "    print('RecallScore - {}'.format(recall_score(testY, predict,average='micro')))\n",
    "          \n",
    "    fpr, tpr, thresholds = metrics.roc_curve(testY, predict, pos_label=2)\n",
    "    print('AUC - {}'.format(metrics.auc(fpr, tpr)))\n",
    "    "
   ]
  },
  {
   "cell_type": "code",
   "execution_count": 17,
   "metadata": {
    "collapsed": false
   },
   "outputs": [
    {
     "name": "stdout",
     "output_type": "stream",
     "text": [
      "\n",
      " Region1\n",
      "----------\n",
      "\n",
      " Random Forest:\n"
     ]
    },
    {
     "name": "stderr",
     "output_type": "stream",
     "text": [
      "/Users/bhargavisri/anaconda/lib/python3.5/site-packages/sklearn/model_selection/_split.py:581: Warning: The least populated class in y has only 1 members, which is too few. The minimum number of groups for any class cannot be less than n_splits=3.\n",
      "  % (min_groups, self.n_splits)), Warning)\n"
     ]
    },
    {
     "name": "stdout",
     "output_type": "stream",
     "text": [
      "CV - 0.44051818104640844\n",
      "RecallScore - 0.5157894736842106\n",
      "AUC - nan\n",
      "\n",
      " Decision Tree:\n"
     ]
    },
    {
     "name": "stderr",
     "output_type": "stream",
     "text": [
      "/Users/bhargavisri/anaconda/lib/python3.5/site-packages/sklearn/metrics/ranking.py:542: UndefinedMetricWarning: No positive samples in y_true, true positive value should be meaningless\n",
      "  UndefinedMetricWarning)\n",
      "/Users/bhargavisri/anaconda/lib/python3.5/site-packages/sklearn/model_selection/_split.py:581: Warning: The least populated class in y has only 1 members, which is too few. The minimum number of groups for any class cannot be less than n_splits=3.\n",
      "  % (min_groups, self.n_splits)), Warning)\n"
     ]
    },
    {
     "name": "stdout",
     "output_type": "stream",
     "text": [
      "CV - 0.37963985028303626\n",
      "RecallScore - 0.43909774436090226\n",
      "AUC - nan\n"
     ]
    },
    {
     "name": "stderr",
     "output_type": "stream",
     "text": [
      "/Users/bhargavisri/anaconda/lib/python3.5/site-packages/sklearn/metrics/ranking.py:542: UndefinedMetricWarning: No positive samples in y_true, true positive value should be meaningless\n",
      "  UndefinedMetricWarning)\n"
     ]
    }
   ],
   "source": [
    "import numpy as np\n",
    "from sklearn.model_selection import cross_val_score\n",
    "from sklearn.ensemble import RandomForestClassifier\n",
    "from sklearn.metrics import recall_score\n",
    "from sklearn import tree\n",
    "from sklearn import metrics\n",
    "\n",
    "i = 1\n",
    "testX = np.genfromtxt('gtd_region_test_I_{}.csv'.format(i),delimiter=',')\n",
    "testY = np.genfromtxt('gtd_region_test_T_{}.csv'.format(i),delimiter=',')\n",
    "trainX = np.genfromtxt('gtd_region_train_I_{}.csv'.format(i),delimiter=',')\n",
    "trainY = np.genfromtxt('gtd_region_train_T_{}.csv'.format(i),delimiter=',')\n",
    "\n",
    "print('\\n Region{}'.format(i))\n",
    "print('----------')\n",
    "\n",
    "print('\\n Random Forest:')\n",
    "clf_rf = RandomForestClassifier(n_estimators=10, max_depth=16)\n",
    "scores = cross_val_score(clf_rf, trainX, trainY)\n",
    "\n",
    "print('CV - {}'.format(scores.mean()))\n",
    "\n",
    "clf_rf.fit(trainX, trainY)\n",
    "predict = clf_rf.predict(testX)\n",
    "print('RecallScore - {}'.format(recall_score(testY, predict,average='micro')))\n",
    "\n",
    "fpr, tpr, thresholds = metrics.roc_curve(testY, predict, pos_label=2)\n",
    "print('AUC - {}'.format(metrics.auc(fpr, tpr)))\n",
    "\n",
    "print('\\n Decision Tree:')\n",
    "clf = tree.DecisionTreeClassifier(max_depth=8)\n",
    "scores = cross_val_score(clf, trainX, trainY)\n",
    "\n",
    "print('CV - {}'.format(scores.mean()))\n",
    "\n",
    "clf.fit(trainX, trainY)\n",
    "predict = clf.predict(testX)\n",
    "print('RecallScore - {}'.format(recall_score(testY, predict,average='micro')))\n",
    "\n",
    "fpr, tpr, thresholds = metrics.roc_curve(testY, predict, pos_label=2)\n",
    "print('AUC - {}'.format(metrics.auc(fpr, tpr)))\n"
   ]
  },
  {
   "cell_type": "code",
   "execution_count": 18,
   "metadata": {
    "collapsed": false
   },
   "outputs": [
    {
     "data": {
      "text/plain": [
       "array([ 0.        ,  0.00902256,  0.01804511,  0.01954887,  0.02556391,\n",
       "        0.02706767,  0.03909774,  0.04360902,  0.11428571,  0.12180451,\n",
       "        0.17744361,  0.18646617,  0.19398496,  0.20601504,  0.21654135,\n",
       "        0.22556391,  0.22706767,  0.23458647,  0.33834586,  0.35488722,\n",
       "        0.37894737,  0.38796992,  0.66917293,  0.7112782 ,  0.71278195,\n",
       "        0.71578947,  0.72030075,  0.72631579,  0.78496241,  0.83609023,\n",
       "        0.8406015 ,  0.84360902,  0.85112782,  0.92781955,  0.96390977,\n",
       "        0.97894737,  1.        ])"
      ]
     },
     "execution_count": 18,
     "metadata": {},
     "output_type": "execute_result"
    }
   ],
   "source": [
    "fpr"
   ]
  },
  {
   "cell_type": "code",
   "execution_count": 19,
   "metadata": {
    "collapsed": false
   },
   "outputs": [
    {
     "data": {
      "text/plain": [
       "array([ nan,  nan,  nan,  nan,  nan,  nan,  nan,  nan,  nan,  nan,  nan,\n",
       "        nan,  nan,  nan,  nan,  nan,  nan,  nan,  nan,  nan,  nan,  nan,\n",
       "        nan,  nan,  nan,  nan,  nan,  nan,  nan,  nan,  nan,  nan,  nan,\n",
       "        nan,  nan,  nan,  nan])"
      ]
     },
     "execution_count": 19,
     "metadata": {},
     "output_type": "execute_result"
    }
   ],
   "source": [
    "tpr"
   ]
  },
  {
   "cell_type": "code",
   "execution_count": 20,
   "metadata": {
    "collapsed": false
   },
   "outputs": [
    {
     "data": {
      "text/plain": [
       "array([  92.,   14.,   24.,   40.,   40.,    7.,   40.,   25.,   47.,\n",
       "         68.,   47.,   40.,    7.,   24.,   40.,    9.,   99.,   24.,\n",
       "         40.,   86.,   40.,    7.,   64.,    0.,   24.,   37.,    9.,\n",
       "         92.,   97.,   47.,   24.,   24.,   40.,   86.,    6.,    9.,\n",
       "         54.,   92.,   24.,    9.,   40.,   68.,   22.,   92.,   22.,\n",
       "         40.,   40.,   40.,    0.,   58.,   92.,   70.,   47.,   40.,\n",
       "         58.,   40.,    6.,   40.,   18.,   92.,    9.,   37.,  109.,\n",
       "         24.,   22.,   99.,    9.,   86.,   40.,   22.,    0.,   40.,\n",
       "          9.,   45.,    6.,   40.,   24.,   91.,    9.,   58.,   40.,\n",
       "         79.,   40.,   58.,   99.,   40.,   40.,   54.,  109.,   22.,\n",
       "         40.,   14.,   58.,   40.,   40.,   58.,   99.,   24.,    6.,\n",
       "         54.,   54.,   40.,  108.,   24.,   37.,   37.,   40.,    6.,\n",
       "         68.,   99.,   54.,   40.,  101.,   58.,   40.,   40.,   47.,\n",
       "         37.,   99.,   45.,   40.,   40.,   54.,    9.,    9.,   37.,\n",
       "         22.,   40.,   99.,   22.,   40.,    9.,   22.,   58.,   92.,\n",
       "         40.,   58.,   40.,   99.,   40.,   40.,   22.,   37.,   40.,\n",
       "         14.,   58.,   58.,   58.,   40.,   40.,   24.,    9.,   40.,\n",
       "         40.,   29.,    9.,   22.,   92.,   99.,   58.,   58.,    7.,\n",
       "         40.,   40.,   92.,   99.,   40.,  106.,   58.,    7.,   99.,\n",
       "         40.,   36.,   99.,   99.,   58.,   64.,   92.,   37.,   22.,\n",
       "         58.,   99.,   92.,   40.,    7.,   58.,   40.,   24.,   40.,\n",
       "         24.,   70.,   24.,   40.,   40.,    9.,   24.,   24.,   40.,\n",
       "         40.,   58.,   24.,   99.,   40.,   40.,   22.,   37.,   22.,\n",
       "         37.,   22.,   40.,   40.,   40.,   40.,   40.,   58.,   99.,\n",
       "         58.,   37.,   92.,    9.,   70.,   92.,   58.,   40.,  101.,\n",
       "          7.,   99.,   40.,  101.,   58.,   40.,   58.,   40.,   40.,\n",
       "         40.,   25.,   40.,   22.,   58.,   58.,    7.,   58.,   40.,\n",
       "         40.,   58.,   40.,    7.,   24.,   40.,   40.,   99.,   58.,\n",
       "         40.,   22.,   40.,   18.,   37.,   40.,   40.,   40.,   73.,\n",
       "          9.,   40.,   40.,   40.,    9.,   22.,   58.,    6.,   99.,\n",
       "          0.,   91.,   40.,   22.,   92.,   70.,   40.,    9.,   58.,\n",
       "         37.,   92.,   33.,   97.,   58.,   24.,   40.,   37.,   40.,\n",
       "         40.,    9.,   40.,   40.,   40.,   45.,   58.,   58.,    7.,\n",
       "         40.,   37.,    9.,   91.,   58.,   24.,    9.,   40.,    0.,\n",
       "         64.,   40.,   92.,   70.,   99.,   92.,   40.,   92.,   24.,\n",
       "         58.,   37.,   40.,   29.,   40.,    0.,   40.,   40.,   40.,\n",
       "          9.,  108.,    7.,   37.,   40.,   40.,   92.,   40.,   99.,\n",
       "          9.,    0.,    0.,   73.,  101.,   91.,   99.,  100.,   22.,\n",
       "         40.,    9.,   40.,   58.,   40.,    9.,   22.,   45.,   24.,\n",
       "         29.,    9.,   58.,   40.,   24.,    0.,   99.,   58.,    6.,\n",
       "         22.,   40.,   58.,    7.,    9.,   99.,   40.,   40.,   22.,\n",
       "          9.,   22.,   40.,   24.,   40.,    7.,  109.,   40.,    9.,\n",
       "         40.,   40.,   92.,  106.,    6.,   40.,   24.,    9.,    0.,\n",
       "         58.,   24.,  107.,   40.,   40.,   58.,   40.,   40.,   97.,\n",
       "        108.,   68.,   58.,   37.,   25.,   40.,   24.,   99.,   45.,\n",
       "          9.,   99.,   58.,   24.,    6.,   40.,   54.,  101.,    9.,\n",
       "         58.,    9.,   40.,   40.,   22.,   54.,   37.,    9.,   40.,\n",
       "         40.,   58.,   40.,   40.,   40.,   92.,   58.,   40.,   24.,\n",
       "         99.,   99.,   58.,  100.,   73.,   91.,   40.,   40.,    9.,\n",
       "         70.,   68.,    9.,    7.,    9.,   40.,   22.,   40.,   40.,\n",
       "        106.,   58.,   33.,   24.,   58.,   40.,   24.,   58.,   22.,\n",
       "        101.,   79.,   47.,   40.,   37.,   92.,    9.,   92.,   47.,\n",
       "         40.,  101.,   40.,   99.,   54.,  106.,   40.,   47.,   92.,\n",
       "         40.,    7.,   54.,    7.,    0.,   22.,   47.,    9.,   40.,\n",
       "         40.,   40.,   40.,   40.,   47.,   24.,   47.,   47.,   22.,\n",
       "          7.,   40.,   91.,   92.,   54.,   99.,   99.,   40.,   37.,\n",
       "         79.,   40.,   99.,    9.,   92.,   99.,   40.,   37.,   22.,\n",
       "         64.,   99.,   14.,   40.,   58.,   40.,   20.,   24.,   99.,\n",
       "         70.,   40.,    0.,   37.,    9.,   99.,   24.,    9.,   99.,\n",
       "         40.,  108.,   40.,   92.,   58.,   40.,   40.,   58.,   73.,\n",
       "         92.,   24.,   40.,   40.,   37.,   40.,   24.,    9.,   40.,\n",
       "          7.,   40.,   14.,   20.,   40.,   99.,   92.,   40.,   40.,\n",
       "         58.,   40.,   24.,   97.,   99.,   64.,   22.,   99.,    6.,\n",
       "         97.,   58.,   22.,   67.,   58.,  109.,   47.,   40.,   20.,\n",
       "          9.,   92.,   37.,  109.,   40.,   40.,    7.,  101.,   92.,\n",
       "         92.,    7.,   58.,   40.,   92.,   22.,   47.,   22.,    7.,\n",
       "         40.,  108.,    9.,    9.,    7.,   24.,   92.,   99.,   68.,\n",
       "         40.,   99.,   40.,   58.,  109.,   58.,   58.,   40.,   37.,\n",
       "         40.,   58.,   58.,   79.,   37.,   47.,   40.,   58.,   86.,\n",
       "          9.,   99.,   40.,   40.,   40.,    0.,   86.,   92.,   40.,\n",
       "         99.,    9.,   40.,   99.,   22.,    9.,   40.,   92.,   58.,\n",
       "         58.,   99.,   40.,   58.,    0.,   40.,   58.,   40.,   37.,\n",
       "         58.,   45.,    9.,  104.,    9.,   40.,   47.,    7.,   40.,\n",
       "         99.,   40.,  100.,   40.,   92.,  108.,   25.,    7.])"
      ]
     },
     "execution_count": 20,
     "metadata": {},
     "output_type": "execute_result"
    }
   ],
   "source": [
    "predict"
   ]
  },
  {
   "cell_type": "code",
   "execution_count": 21,
   "metadata": {
    "collapsed": false
   },
   "outputs": [
    {
     "data": {
      "text/plain": [
       "array([  24.,   24.,   58.,   60.,   60.,   37.,   54.,   24.,   36.,\n",
       "         68.,   36.,   40.,    8.,   27.,   41.,    9.,   99.,   24.,\n",
       "         40.,    0.,   99.,   18.,   18.,   17.,   28.,   99.,    9.,\n",
       "         92.,   11.,   95.,   25.,   81.,    5.,   57.,   99.,   37.,\n",
       "         58.,   92.,   28.,    9.,   40.,   68.,  104.,   92.,   40.,\n",
       "         60.,   40.,   40.,    0.,   58.,   92.,   70.,   36.,   39.,\n",
       "         92.,   40.,   37.,   81.,   18.,   58.,    9.,   99.,  109.,\n",
       "         13.,   70.,   99.,    9.,   26.,   57.,   54.,    0.,   40.,\n",
       "          9.,   45.,   43.,   57.,   58.,   14.,    9.,   58.,   68.,\n",
       "         79.,   84.,   82.,   99.,   40.,   54.,   68.,   22.,   34.,\n",
       "         70.,   14.,   58.,   40.,   70.,   58.,   99.,   24.,    9.,\n",
       "         54.,   58.,   81.,  108.,   13.,   37.,   37.,   40.,   99.,\n",
       "         68.,   79.,    4.,   66.,  101.,   82.,   60.,   34.,   47.,\n",
       "         99.,   57.,   68.,   68.,   68.,   58.,    9.,    9.,   99.,\n",
       "         68.,   70.,   96.,   66.,   99.,    9.,   54.,   58.,   92.,\n",
       "         40.,   14.,    0.,   99.,   60.,    4.,   66.,   37.,   45.,\n",
       "         14.,   58.,   58.,   24.,   54.,   33.,   57.,    9.,   40.,\n",
       "        102.,   37.,    9.,   94.,   27.,   99.,   58.,   58.,  106.,\n",
       "         99.,   48.,   92.,   99.,   60.,   92.,   27.,    3.,   99.,\n",
       "         62.,  108.,    9.,   99.,   58.,   18.,   58.,   37.,   16.,\n",
       "         92.,   99.,   58.,   40.,   99.,   24.,   98.,  106.,   68.,\n",
       "         24.,   70.,   24.,   45.,   41.,    9.,   91.,   54.,  101.,\n",
       "         40.,   24.,   54.,   99.,   56.,   40.,   94.,   37.,   40.,\n",
       "         37.,   67.,   70.,  101.,   56.,   40.,   56.,   58.,   99.,\n",
       "         14.,   99.,   92.,    9.,   54.,   58.,   92.,   40.,  101.,\n",
       "          7.,   75.,   70.,   81.,   14.,   54.,   58.,  104.,    7.,\n",
       "         71.,   24.,   42.,   54.,   58.,   24.,   37.,   58.,   54.,\n",
       "         40.,   58.,    7.,    7.,   24.,   54.,   40.,   99.,   28.,\n",
       "         99.,   27.,  102.,    9.,   10.,   85.,  108.,   68.,   73.,\n",
       "          9.,  104.,   41.,   59.,    9.,   26.,   58.,   37.,  108.,\n",
       "          0.,   91.,   99.,   40.,  106.,   70.,   54.,    9.,   58.,\n",
       "          7.,   92.,   33.,   97.,   58.,  104.,   40.,   37.,   81.,\n",
       "         40.,    9.,  104.,   85.,   57.,   45.,   92.,   27.,   99.,\n",
       "         40.,   37.,    9.,   24.,   27.,   57.,    9.,   85.,   99.,\n",
       "         36.,   53.,  106.,   70.,   99.,   92.,   19.,   24.,   58.,\n",
       "         58.,   10.,   54.,   29.,   70.,   60.,   40.,   60.,   57.,\n",
       "          9.,   67.,    7.,    7.,   40.,   99.,   92.,  106.,   99.,\n",
       "          9.,   62.,  109.,   73.,  101.,   91.,   99.,  100.,   22.,\n",
       "         41.,    9.,   68.,   25.,   55.,    9.,   57.,   45.,   58.,\n",
       "         37.,    9.,   22.,   57.,   67.,    0.,   99.,   27.,   79.,\n",
       "         99.,    0.,  104.,    7.,    9.,   99.,   54.,   54.,   45.,\n",
       "         18.,   53.,   59.,  106.,   88.,    7.,  109.,   40.,    9.,\n",
       "         71.,    4.,   92.,   58.,   43.,   40.,   13.,    9.,    0.,\n",
       "         81.,   58.,  107.,   40.,   84.,   58.,   59.,   68.,   97.,\n",
       "         21.,   68.,   58.,   37.,   58.,   60.,   24.,   99.,   68.,\n",
       "          9.,   99.,   58.,  106.,   99.,   54.,   54.,  101.,    9.,\n",
       "         58.,    9.,  100.,   40.,   70.,   88.,    7.,    9.,   85.,\n",
       "         18.,   24.,   85.,   35.,   99.,   99.,   58.,   16.,   24.,\n",
       "         99.,   55.,   14.,  100.,   99.,   58.,   80.,   81.,    9.,\n",
       "         70.,   68.,    9.,   99.,    9.,   40.,   99.,   40.,   60.,\n",
       "         13.,   13.,   70.,  106.,  104.,   66.,   22.,   27.,    0.,\n",
       "        101.,   79.,   47.,   83.,   44.,  106.,    9.,   92.,   43.,\n",
       "         40.,   77.,   34.,   99.,   40.,  106.,   54.,  108.,   92.,\n",
       "         71.,    7.,   58.,    7.,    0.,  100.,   47.,    9.,   41.,\n",
       "         54.,   40.,   40.,  100.,   43.,   24.,   47.,   47.,   66.,\n",
       "          7.,   99.,   25.,   92.,   99.,    7.,   99.,   45.,   99.,\n",
       "         79.,   68.,   99.,    9.,   92.,    9.,   70.,   37.,   22.,\n",
       "         36.,   99.,   14.,   38.,   58.,   40.,   20.,   13.,   99.,\n",
       "         70.,   60.,    0.,    7.,    9.,   99.,   58.,    9.,   99.,\n",
       "         98.,  108.,   40.,   58.,   58.,   60.,   65.,   92.,   73.,\n",
       "         92.,   91.,   40.,   68.,   37.,   40.,   58.,   18.,   59.,\n",
       "         99.,  100.,   14.,   20.,   70.,   99.,   34.,   70.,   68.,\n",
       "         27.,   70.,   24.,   97.,   99.,   63.,   22.,   10.,   37.,\n",
       "         97.,   24.,   23.,   67.,   24.,  109.,   36.,  106.,   20.,\n",
       "          9.,   91.,    7.,  109.,   68.,   40.,   37.,   77.,   58.,\n",
       "         92.,    7.,   22.,   40.,   92.,   78.,   79.,   68.,    7.,\n",
       "         40.,   36.,    9.,    9.,    7.,   24.,   92.,   99.,   39.,\n",
       "         85.,   99.,   40.,   58.,  109.,  104.,   58.,   40.,   37.,\n",
       "         99.,   58.,   58.,  108.,   37.,   79.,   99.,   58.,   54.,\n",
       "          9.,   99.,   99.,   46.,   70.,   46.,   86.,   24.,   68.,\n",
       "         99.,    9.,   35.,   99.,   22.,    9.,   62.,   58.,  106.,\n",
       "         58.,   99.,   40.,  104.,    4.,   70.,   58.,   60.,   18.,\n",
       "         58.,   45.,    9.,  104.,    9.,   70.,   79.,    7.,   62.,\n",
       "         99.,  104.,  100.,   99.,   58.,  108.,   24.,   37.])"
      ]
     },
     "execution_count": 21,
     "metadata": {},
     "output_type": "execute_result"
    }
   ],
   "source": [
    "testY"
   ]
  },
  {
   "cell_type": "code",
   "execution_count": 22,
   "metadata": {
    "collapsed": false
   },
   "outputs": [
    {
     "name": "stderr",
     "output_type": "stream",
     "text": [
      "/Users/bhargavisri/anaconda/lib/python3.5/site-packages/sklearn/metrics/ranking.py:542: UndefinedMetricWarning: No positive samples in y_true, true positive value should be meaningless\n",
      "  UndefinedMetricWarning)\n"
     ]
    },
    {
     "data": {
      "text/plain": [
       "(array([ 0.        ,  0.00902256,  0.01804511,  0.01954887,  0.02556391,\n",
       "         0.02706767,  0.03909774,  0.04360902,  0.11428571,  0.12180451,\n",
       "         0.17744361,  0.18646617,  0.19398496,  0.20601504,  0.21654135,\n",
       "         0.22556391,  0.22706767,  0.23458647,  0.33834586,  0.35488722,\n",
       "         0.37894737,  0.38796992,  0.66917293,  0.7112782 ,  0.71278195,\n",
       "         0.71578947,  0.72030075,  0.72631579,  0.78496241,  0.83609023,\n",
       "         0.8406015 ,  0.84360902,  0.85112782,  0.92781955,  0.96390977,\n",
       "         0.97894737,  1.        ]),\n",
       " array([ nan,  nan,  nan,  nan,  nan,  nan,  nan,  nan,  nan,  nan,  nan,\n",
       "         nan,  nan,  nan,  nan,  nan,  nan,  nan,  nan,  nan,  nan,  nan,\n",
       "         nan,  nan,  nan,  nan,  nan,  nan,  nan,  nan,  nan,  nan,  nan,\n",
       "         nan,  nan,  nan,  nan]),\n",
       " array([ 110.,  109.,  108.,  107.,  106.,  104.,  101.,  100.,   99.,\n",
       "          97.,   92.,   91.,   86.,   73.,   70.,   68.,   67.,   64.,\n",
       "          58.,   54.,   47.,   45.,   40.,   37.,   36.,   33.,   29.,\n",
       "          25.,   24.,   22.,   20.,   18.,   14.,    9.,    7.,    6.,    0.]))"
      ]
     },
     "execution_count": 22,
     "metadata": {},
     "output_type": "execute_result"
    }
   ],
   "source": [
    "metrics.roc_curve(testY, predict, pos_label=2)"
   ]
  },
  {
   "cell_type": "code",
   "execution_count": null,
   "metadata": {
    "collapsed": true
   },
   "outputs": [],
   "source": []
  }
 ],
 "metadata": {
  "anaconda-cloud": {},
  "kernelspec": {
   "display_name": "Python [conda root]",
   "language": "python",
   "name": "conda-root-py"
  },
  "language_info": {
   "codemirror_mode": {
    "name": "ipython",
    "version": 3
   },
   "file_extension": ".py",
   "mimetype": "text/x-python",
   "name": "python",
   "nbconvert_exporter": "python",
   "pygments_lexer": "ipython3",
   "version": "3.5.2"
  }
 },
 "nbformat": 4,
 "nbformat_minor": 1
}
